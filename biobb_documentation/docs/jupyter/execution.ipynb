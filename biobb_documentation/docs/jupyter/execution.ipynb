{
 "cells": [
  {
   "cell_type": "markdown",
   "metadata": {},
   "source": [
    "# Execution"
   ]
  },
  {
   "cell_type": "markdown",
   "metadata": {},
   "source": [
    "## Execution in command line\n",
    "\n",
    "### Binary path configuration\n",
    "\n",
    "First off, we recommend to configure binary paths in your environment in order to easy the command line execution. For doing that, please follow the next steps:\n",
    "\n",
    "#### Create binary folder\n",
    "\n",
    "Remember to change the */home/user_name/projects/* path to the real path on your computer.\n",
    "\n",
    "```Shell\n",
    "mkdir /home/user_name/projects/bin\n",
    "```\n",
    "\n",
    "#### Change python file permissions\n",
    "\n",
    "Remember to change the */home/user_name/projects/* path to the real path on your computer.\n",
    "\n",
    "```Shell\n",
    "chmod +x /home/user_name/projects/biobb_template/biobb_template/template/template.py\n",
    "```\n",
    "\n",
    "#### Create symlink to python file\n",
    "\n",
    "Remember to change the */home/user_name/projects/* path to the real path on your computer.\n",
    "\n",
    "```Shell\n",
    "cd /home/user_name/projects/bin\n",
    "ln -s /home/user_name/projects/biobb_template/biobb_template/template/template.py template\n",
    "```\n",
    "\n",
    "#### Create conda activate actions\n",
    "\n",
    "Remember to change the */[anaconda-path]* and the */home/user_name/projects/* path to the real paths on your computer.\n",
    "\n",
    "```Shell\n",
    "cd /[anaconda-path]/envs/biobb_template/etc\n",
    "mkdir conda\n",
    "cd conda/\n",
    "mkdir activate.d\n",
    "cd activate.d/\n",
    "printf '#!/usr/bin/env bash\\n\\nexport BIOBB_OLD_PATH=$PATH\\nexport PATH=/home/user_name/projects/bin:$PATH' > biobb_template.sh\n",
    "```\n",
    "\n",
    "#### Create conda deactivate actions\n",
    "\n",
    "Remember to change the */[anaconda-path]* and the */home/user_name/projects/* path to the real paths on your computer.\n",
    "\n",
    "```Shell\n",
    "cd /[anaconda-path]/envs/biobb_template/etc/conda\n",
    "mkdir deactivate.d\n",
    "cd deactivate.d/\n",
    "printf '#!/usr/bin/env bash\\n\\nexport PATH=$BIOBB_OLD_PATH' > biobb_template.sh\n",
    "```\n",
    "\n",
    "#### Restart environment\n",
    "\n",
    "```Shell\n",
    "conda deactivate\n",
    "conda activate biobb_template\n",
    "```\n",
    "\n",
    "### Execution\n",
    "\n",
    "All the information about the command line execution of a **BioBB** can be found here:\n",
    "\n",
    "[https://biobb-template.readthedocs.io/en/latest/command_line.html](https://biobb-template.readthedocs.io/en/latest/command_line.html)"
   ]
  },
  {
   "cell_type": "markdown",
   "metadata": {},
   "source": [
    "## Execution in Jupyter Notebook\n",
    "\n",
    "**Jupyter Notebook** (formerly IPython Notebooks) is a web-based interactive computational environment for creating [Jupyter](https://jupyter.org/) notebook documents. The *notebook* term can colloquially make reference to many different entities, mainly the Jupyter web application, Jupyter Python web server, or Jupyter document format depending on context. A **Jupyter Notebook** document is a JSON document, following a versioned schema, and containing an ordered list of **input/output cells** which can contain code, text (using Markdown), mathematics, plots and rich media, usually ending with the \".ipynb\" extension.\n",
    "\n",
    "A Jupyter Notebook can be converted to a number of open standard output formats (**HTML**, **presentation slides**, **LaTeX**, **PDF**, **ReStructuredText**, **Markdown**, **Python**) through *Download As* in the web interface, via the nbconvert library or *jupyter nbconvert* command line interface in a shell.\n",
    "\n",
    "To simplify visualisation of **Jupyter Notebook** documents on the web, the nbconvert library is provided as a service through NbViewer which can take a URL to any publicly available notebook document, convert it to **HTML on the fly** and display it to the user.\n",
    "\n",
    "Basic examples of **Jupyter Notebook** execution for *biobb_template* can be found here:\n",
    "\n",
    "[https://github.com/bioexcel/biobb_template/blob/master/biobb_template/notebooks/template/template.ipynb](https://github.com/bioexcel/biobb_template/blob/master/biobb_template/notebooks/template/template.ipynb)\n",
    "\n",
    "The execution is pretty straightforward: \n",
    "\n",
    "1. We must **create an object** with the tool **properties** in case the properties are mandatory for this tool. More information about the properties [clicking here](https://biobb-documentation.readthedocs.io/en/latest/arguments.html#properties).\n",
    "\n",
    "2. We call the **tool class** with the mandatory **inputs** / **outputs** and the **properties** defined in the previous step."
   ]
  },
  {
   "cell_type": "code",
   "execution_count": 1,
   "metadata": {},
   "outputs": [],
   "source": [
    "prop = {\n",
    "    \"boolean_property\": False,\n",
    "    \"remove_tmp\": True\n",
    "}\n",
    "Template(input_file_path1=input1, \n",
    "         input_file_path2=input2, \n",
    "         output_file_path=output, \n",
    "         properties=prop).launch()"
   ]
  },
  {
   "cell_type": "markdown",
   "metadata": {},
   "source": [
    "After executing this cell in **Jupyter Notebook** we will get the output log generated by the tool. In the example above, it should be something like this:"
   ]
  },
  {
   "cell_type": "code",
   "execution_count": null,
   "metadata": {},
   "outputs": [],
   "source": [
    "2020-02-20 17:34:14,566 [MainThread  ] [INFO ]  Creating 19838984-a76c-401e-9226-4a814268391c temporary folder\n",
    "2020-02-20 17:34:14,587 [MainThread  ] [INFO ]  Creating command line with instructions and required arguments\n",
    "2020-02-20 17:34:14,597 [MainThread  ] [INFO ]  Appending optional argument to command line\n",
    "2020-02-20 17:34:15,173 [MainThread  ] [INFO ]  zip -j output 19838984-a76c-401e-9226-4a814268391c/input1 19838984-a76c-401e-9226-4a814268391c/input2\n",
    "\n",
    "2020-02-20 17:34:15,178 [MainThread  ] [INFO ]  Exit code 0\n",
    "\n",
    "2020-02-20 17:34:15,181 [MainThread  ] [INFO ]    adding: input1 (deflated 87%)\n",
    "  adding: input2 (deflated 14%)\n",
    "\n",
    "2020-02-20 17:34:15,191 [MainThread  ] [INFO ]  Removed: 19838984-a76c-401e-9226-4a814268391c"
   ]
  },
  {
   "cell_type": "markdown",
   "metadata": {},
   "source": [
    "## Execution in a workflow\n",
    "\n",
    "TODO"
   ]
  }
 ],
 "metadata": {
  "kernelspec": {
   "display_name": "Python 3",
   "language": "python",
   "name": "python3"
  },
  "language_info": {
   "codemirror_mode": {
    "name": "ipython",
    "version": 3
   },
   "file_extension": ".py",
   "mimetype": "text/x-python",
   "name": "python",
   "nbconvert_exporter": "python",
   "pygments_lexer": "ipython3",
   "version": "3.6.7"
  }
 },
 "nbformat": 4,
 "nbformat_minor": 4
}
