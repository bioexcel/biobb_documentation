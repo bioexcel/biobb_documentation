{
 "cells": [
  {
   "cell_type": "markdown",
   "metadata": {},
   "source": [
    "# Execution"
   ]
  },
  {
   "cell_type": "markdown",
   "metadata": {},
   "source": [
    "## Execution in command line\n",
    "\n",
    "### Binary path configuration\n",
    "\n",
    "First off, we recommend to configure binary paths in your environment in order to easy the command line execution. For doing that, please follow the next steps:\n",
    "\n",
    "#### Create binary folder\n",
    "\n",
    "Remember to change the the */home/user_name/projects/* path to the real path on your computer.\n",
    "\n",
    "```Shell\n",
    "mkdir /home/user_name/projects/bin\n",
    "```\n",
    "\n",
    "#### Change python file permissions\n",
    "\n",
    "Remember to change the the */home/user_name/projects/* path to the real path on your computer.\n",
    "\n",
    "```Shell\n",
    "chmod +x /home/user_name/projects/biobb_template/biobb_template/template/template.py\n",
    "```\n",
    "\n",
    "#### Create symlink to python file\n",
    "\n",
    "Remember to change the the */home/user_name/projects/* path to the real path on your computer.\n",
    "\n",
    "```Shell\n",
    "cd /home/user_name/projects/bin\n",
    "ln -s /home/user_name/projects/biobb_template/biobb_template/template/template.py template\n",
    "```\n",
    "\n",
    "#### Create conda activate actions\n",
    "\n",
    "Remember to change the */[anaconda-path]* and the */home/user_name/projects/* path to the real paths on your computer.\n",
    "\n",
    "```Shell\n",
    "cd /[anaconda-path]/envs/biobb_template/etc\n",
    "mkdir conda\n",
    "cd conda/\n",
    "mkdir activate.d\n",
    "cd activate.d/\n",
    "printf '#!/usr/bin/env bash\\n\\nexport BIOBB_OLD_PATH=$PATH\\nexport PATH=/home/user_name/projects/bin:$PATH' > biobb_template.sh\n",
    "```\n",
    "\n",
    "#### Create conda deactivate actions\n",
    "\n",
    "Remember to change the */[anaconda-path]* and the */home/user_name/projects/* path to the real paths on your computer.\n",
    "\n",
    "```Shell\n",
    "cd /[anaconda-path]/envs/biobb_template/etc/conda\n",
    "mkdir deactivate.d\n",
    "cd deactivate.d/\n",
    "printf '#!/usr/bin/env bash\\n\\nexport PATH=$BIOBB_OLD_PATH' > biobb_template.sh\n",
    "```\n",
    "\n",
    "#### Restart environment\n",
    "\n",
    "```Shell\n",
    "conda deactivate\n",
    "conda activate biobb_template\n",
    "```"
   ]
  },
  {
   "cell_type": "markdown",
   "metadata": {},
   "source": [
    "## Execution in Jupyter Notebook\n",
    "\n",
    "some text"
   ]
  },
  {
   "cell_type": "markdown",
   "metadata": {},
   "source": [
    "## Unittests\n",
    "\n",
    "some text"
   ]
  }
 ],
 "metadata": {
  "kernelspec": {
   "display_name": "Python 3",
   "language": "python",
   "name": "python3"
  },
  "language_info": {
   "codemirror_mode": {
    "name": "ipython",
    "version": 3
   },
   "file_extension": ".py",
   "mimetype": "text/x-python",
   "name": "python",
   "nbconvert_exporter": "python",
   "pygments_lexer": "ipython3",
   "version": "3.6.7"
  }
 },
 "nbformat": 4,
 "nbformat_minor": 4
}
