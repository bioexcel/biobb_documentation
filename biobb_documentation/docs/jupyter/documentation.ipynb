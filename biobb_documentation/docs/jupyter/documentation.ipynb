{
 "cells": [
  {
   "cell_type": "markdown",
   "metadata": {},
   "source": [
    "# Documentation"
   ]
  },
  {
   "cell_type": "markdown",
   "metadata": {},
   "source": [
    "## Introduction\n",
    "\n",
    "All the documentation of **BioExcel Building Blocks** is available in [Read the Docs](https://readthedocs.org/), a software documentation hosting platform where the source code is freely available, and the service is also free to use. It generates documentation that is written with the [Sphinx documentation generator](https://www.sphinx-doc.org/en/master/).\n",
    "\n",
    "All the documentation of **BioBBs** is written in [**reStructuredText**](https://thomas-cokelaer.info/tutorials/sphinx/rest_syntax.html) and [**Markdown**](https://www.markdownguide.org/basic-syntax/):\n",
    "\n",
    "* **reStructuredText** (RST, ReST, or reST) is a file format for textual data used primarily in the Python programming language community for technical documentation.\n",
    "* **Markdown** is a lightweight markup language with plain-text-formatting syntax. Its design allows it to be converted to many output formats.\n",
    "\n",
    "The documentation of a **BioBB** package is divided into three parts:\n",
    "\n",
    "### Introduction and installation\n",
    "\n",
    "[https://biobb-template.readthedocs.io/en/latest/readme.html](https://biobb-template.readthedocs.io/en/latest/readme.html)\n",
    "\n",
    "**README.md** file written in **Markdown** language that is a copy of the main **README.md** file of the **BioBB** package. The **README.md** source code of de *biobb_template* documentation is located in:\n",
    "\n",
    "[https://github.com/bioexcel/biobb_template/blob/master/biobb_template/docs/source/readme.md](https://github.com/bioexcel/biobb_template/blob/master/biobb_template/docs/source)\n",
    "\n",
    "### API documentation\n",
    "\n",
    "[https://biobb-template.readthedocs.io/en/latest/modules.html](https://biobb-template.readthedocs.io/en/latest/modules.html)\n",
    "\n",
    "This section contains all the documentation related to the source code of the different modules of a **BioBB** package.\n",
    "\n",
    "In order to **easy the process** of documentation, the **BioExcel Building Blocks** use the [sphinx autodoc extension](http://www.sphinx-doc.org/en/master/usage/extensions/autodoc.html) that generates automatically all the documentation related to the source code respecting a certain **format for the comments** explained below in this same section.\n",
    "\n",
    "### Command Line Documentation\n",
    "\n",
    "[https://biobb-template.readthedocs.io/en/latest/command_line.html](https://biobb-template.readthedocs.io/en/latest/command_line.html)\n",
    "\n",
    "This file is written in **Markdown**, though to easy the writting process (and also because there are some code executions in this process), we write it first in **Jupyter Notebook**, and then import it to **Markdown**.\n",
    "\n",
    "* **Jupyter Notebook** file: [https://github.com/bioexcel/biobb_template/blob/master/biobb_template/docs/jupyter/command_line_template.ipynb](https://github.com/bioexcel/biobb_template/blob/master/biobb_template/docs/jupyter/command_line_template.ipynb)\n",
    "\n",
    "* **Markdown** file: [https://github.com/bioexcel/biobb_template/blob/master/biobb_template/docs/source/command_line.md](https://github.com/bioexcel/biobb_template/blob/master/biobb_template/docs/source)\n",
    "\n",
    "[Click here](https://biobb-template.readthedocs.io/en/latest/index.html) to access to the index page documentation of the *biobb_template*."
   ]
  },
  {
   "cell_type": "markdown",
   "metadata": {},
   "source": [
    "## Files structure\n",
    "\n",
    "### \\_\\_init\\_\\_.py files\n",
    "\n",
    "As explained in the [Files structure](https://biobb-documentation.readthedocs.io/en/latest/files_structure.html) section, there are two **\\_\\_init\\_\\_.py** files:\n",
    "\n",
    "* **biobb_template/biobb_template/\\_\\_init\\_\\_.py**: define the package name (*biobb_template*) and all the modules contained in this package, only one in this example (*template*).\n",
    "\n",
    "[https://github.com/bioexcel/biobb_template/blob/master/biobb_template/\\_\\_init\\_\\_.py](https://github.com/bioexcel/biobb_template/blob/master/biobb_template/__init__.py)"
   ]
  },
  {
   "cell_type": "code",
   "execution_count": null,
   "metadata": {},
   "outputs": [],
   "source": [
    "name = \"biobb_template\"\n",
    "__all__ = [\"template\"]"
   ]
  },
  {
   "cell_type": "markdown",
   "metadata": {},
   "source": [
    "* **biobb_template/biobb_template/template/\\_\\_init\\_\\_.py**: define the folder name (*template*) and all the tools contained in this folder, only two in this example (*template* and *template_container*).\n",
    "\n",
    "[https://github.com/bioexcel/biobb_template/blob/master/biobb_template/template/\\_\\_init\\_\\_.py](https://github.com/bioexcel/biobb_template/blob/master/biobb_template/template/__init__.py)"
   ]
  },
  {
   "cell_type": "code",
   "execution_count": null,
   "metadata": {},
   "outputs": [],
   "source": [
    "name = \"template\"\n",
    "__all__ = [\"template\", \"template_container\"]"
   ]
  },
  {
   "cell_type": "markdown",
   "metadata": {},
   "source": [
    "This two files are used by the [sphinx autodoc extension](http://www.sphinx-doc.org/en/master/usage/extensions/autodoc.html) for parsing the directories structure of our **BioBB**. Therefore, it's very important to define them properly and put only the **modules / tools** we want to documentate automatically.\n",
    "\n",
    "### docs folder\n",
    "\n",
    "[https://github.com/bioexcel/biobb_template/tree/master/biobb_template/docs](https://github.com/bioexcel/biobb_template/tree/master/biobb_template/docs)\n",
    "\n",
    "The structure of the docs folder is as follows:\n",
    "\n",
    "* docs/\n",
    "    * jupyter/\n",
    "        * command_line_template.ipynb\n",
    "    * source/\n",
    "        * \\_static/\n",
    "        * command_line.md\n",
    "        * conf.py\n",
    "        * index.rst\n",
    "        * modules.rst\n",
    "        * readme.md\n",
    "        * schema.html\n",
    "        * template.rst\n",
    "    * Makefile\n",
    "    \n",
    "#### jupyter folder\n",
    "\n",
    "[https://github.com/bioexcel/biobb_template/tree/master/biobb_template/docs/jupyter](https://github.com/bioexcel/biobb_template/tree/master/biobb_template/docs/jupyter)\n",
    "\n",
    "This folder contains a single *command_line_template.ipynb* file that is used to write the **command line**. documentation.\n",
    "\n",
    "The **Jupyter Notebook** file can be found at:\n",
    "\n",
    "[https://github.com/bioexcel/biobb_template/blob/master/biobb_template/docs/jupyter/command_line_template.ipynb](https://github.com/bioexcel/biobb_template/blob/master/biobb_template/docs/jupyter/command_line_template.ipynb)\n",
    "\n",
    "Note that in order to easy the command line execution it’s recommendable to configure binary paths in your environment. More info about this subject can be found in the [Binary path configuration](https://biobb-documentation.readthedocs.io/en/latest/execution.html#binary-path-configuration) section.\n",
    "\n",
    "#### source folder\n",
    "\n",
    "[https://github.com/bioexcel/biobb_template/tree/master/biobb_template/docs/source](https://github.com/bioexcel/biobb_template/tree/master/biobb_template/docs/source)\n",
    "\n",
    "This folder contains all the files needed by the [sphinx autodoc extension](http://www.sphinx-doc.org/en/master/usage/extensions/autodoc.html) for the creation of the documentation in [Read the Docs](https://readthedocs.org/).\n",
    "\n",
    "##### _static/ folder\n",
    "\n",
    "[https://github.com/bioexcel/biobb_template/tree/master/biobb_template/docs/source/_static](https://github.com/bioexcel/biobb_template/tree/master/biobb_template/docs/source/_static)\n",
    "\n",
    "This folder contains media related to the documentation:\n",
    "\n",
    "* bioexcel_logo.png: image logo of the [BioExcel Project](https://bioexcel.eu/)\n",
    "* logo.png: **BioExcel Building Blocks** image logo\n",
    "* theme_overrides.css: styles file for customising Read the Docs documentation\n",
    "* theme_overrides.js: JavaScript file for customising Read the Docs documentation\n",
    "\n",
    "##### command_line.md\n",
    "\n",
    "[https://github.com/bioexcel/biobb_template/blob/master/biobb_template/docs/source/command_line.md](https://github.com/bioexcel/biobb_template/tree/master/biobb_template/docs/source)\n",
    "\n",
    "Command line file in **Markdown** created from the **Jupyter Notebook** file in the jupyter folder.\n",
    "\n",
    "##### conf.py\n",
    "\n",
    "[https://github.com/bioexcel/biobb_template/blob/master/biobb_template/docs/source/conf.py](https://github.com/bioexcel/biobb_template/blob/master/biobb_template/docs/source/conf.py)\n",
    "\n",
    "[Read the Docs](https://readthedocs.org/) configuration file.\n",
    "\n",
    "##### index.rst\n",
    "\n",
    "[https://github.com/bioexcel/biobb_template/blob/master/biobb_template/docs/source/index.rst](https://github.com/bioexcel/biobb_template/blob/master/biobb_template/docs/source/index.rst)\n",
    "\n",
    "Documentation index file written in **reStructuredText**.\n",
    "\n",
    "##### modules.rst\n",
    "\n",
    "[https://github.com/bioexcel/biobb_template/blob/master/biobb_template/docs/source/modules.rst](https://github.com/bioexcel/biobb_template/blob/master/biobb_template/docs/source/modules.rst)\n",
    "\n",
    "Modules section index file written in **reStructuredText**.\n",
    "\n",
    "##### readme.md\n",
    "\n",
    "[https://github.com/bioexcel/biobb_template/blob/master/biobb_template/docs/source/readme.md](https://github.com/bioexcel/biobb_template/tree/master/biobb_template/docs/source)\n",
    "\n",
    "**README.md** file written in **Markdown** language that is a copy of the main **README.md** file of the **BioBB** package. \n",
    "\n",
    "##### schema.html\n",
    "\n",
    "[https://github.com/bioexcel/biobb_template/blob/master/biobb_template/docs/source/schema.html](https://github.com/bioexcel/biobb_template/blob/master/biobb_template/docs/source/schema.html)\n",
    "\n",
    "Package description file (written in **HTML**) following the rules of [**schema.org**](https://schema.org/) and more specifically of [**bioschemas.org**](https://bioschemas.org/).\n",
    "\n",
    "##### template.rst\n",
    "\n",
    "[https://github.com/bioexcel/biobb_template/blob/master/biobb_template/docs/source/template.rst](https://github.com/bioexcel/biobb_template/blob/master/biobb_template/docs/source/template.rst)\n",
    "\n",
    "Template section index file written in **reStructuredText**. This file is an index of the Python files that must be parsed by the [sphinx autodoc extension](http://www.sphinx-doc.org/en/master/usage/extensions/autodoc.html):\n",
    "\n",
    "```rst\n",
    "template package\n",
    "=====================\n",
    "\n",
    "Submodules\n",
    "----------\n",
    "\n",
    "template.template module\n",
    "------------------------\n",
    "\n",
    ".. automodule:: template.template\n",
    "    :members:\n",
    "    :undoc-members:\n",
    "    :show-inheritance:\n",
    "\n",
    "template.template_container module\n",
    "----------------------------------\n",
    "\n",
    ".. automodule:: template.template_container\n",
    "    :members:\n",
    "    :undoc-members:\n",
    "    :show-inheritance:\n",
    "```\n",
    "\n",
    "#### Makefile\n",
    "\n",
    "[https://github.com/bioexcel/biobb_template/blob/master/biobb_template/docs/Makefile](https://github.com/bioexcel/biobb_template/blob/master/biobb_template/docs/Makefile)\n",
    "\n",
    "Makefile for Sphinx documentation"
   ]
  },
  {
   "cell_type": "markdown",
   "metadata": {},
   "source": [
    "## Formats in code comments\n",
    "\n",
    "As explained before, in order to **automate** the generation of part of the documentation, we must write the comments of our **Python code** in a **specific format**. There are two parts of the code where we have to pay special attention: the definition of the **arguments** just after the class definition and the description of the **functions** just after defining them.\n",
    "\n",
    "### Arguments\n",
    "\n",
    "The arguments must be inside a set of triple quotes just after the class definition in the following format:\n",
    "\n",
    "```rst\n",
    "Description of the module.\n",
    "\n",
    "Args:\n",
    "    arg_name1 (arg_type): Description for argument 1. File type: input / output. `Sample file <url_to_sample_file1>`_. Accepted formats: format1, format2, format3. \n",
    "    arg_name2 (arg_type) (Optional): Description for argument 2. File type: input / output. `Sample file <url_to_sample_file2>`_. Accepted formats: format1, format2.\n",
    "    properties (dic):\n",
    "        * **property1** (*prop_type*) - (property1_default) Property 1 description.\n",
    "        * **property2** (*prop_type*) - (property2_default) Property 2 description. Values: value1, value2, value3.\n",
    "        * **property3** (*dic*) - (None) Property 3 description.\n",
    "            * **parameter1** (*param_type*) - (parameter1_default) Parameter 1 description. Values: value1, value2, value3.\n",
    "```\n",
    "\n",
    "As seen in the [Template](https://github.com/bioexcel/biobb_template/blob/master/biobb_template/template/template.py) class:"
   ]
  },
  {
   "cell_type": "code",
   "execution_count": null,
   "metadata": {},
   "outputs": [],
   "source": [
    "class Template():\n",
    "    \"\"\"Description for the template (http://templatedocumentation.org) module.\n",
    "\n",
    "    Args:\n",
    "        input_file_path1 (str): Description for the first input file path. File type: input. `Sample file <https://urlto.sample>`_. Accepted formats: top.\n",
    "        input_file_path2 (str) (Optional): Description for the second input file path (optional). File type: input. `Sample file <https://urlto.sample>`_. Accepted formats: dcd.\n",
    "        output_file_path (str): Description for the output file path. File type: output. `Sample file <https://urlto.sample>`_. Accepted formats: zip.\n",
    "        properties (dic):\n",
    "            * **boolean_property** (*bool*) - (True) Example of boolean property.\n",
    "            * **executable_binary_property** (*str*) - (\"zip\") Example of executable binary property.\n",
    "            * **remove_tmp** (*bool*) - (True) [WF property] Remove temporal files.\n",
    "            * **restart** (*bool*) - (False) [WF property] Do not execute if output files exist.\n",
    "    \"\"\""
   ]
  },
  {
   "cell_type": "markdown",
   "metadata": {},
   "source": [
    "Documentation created from the code above:\n",
    "\n",
    "[https://biobb-template.readthedocs.io/en/latest/template.html#template.template.Template](https://biobb-template.readthedocs.io/en/latest/template.html#template.template.Template)\n",
    "\n",
    "### Functions\n",
    "\n",
    "All the multiline comments inside a set of triple quotes just after the function definition will be used as the function description:"
   ]
  },
  {
   "cell_type": "code",
   "execution_count": null,
   "metadata": {},
   "outputs": [],
   "source": [
    "def launch(self):\n",
    "    \"\"\"Launches the execution of the template module.\"\"\""
   ]
  },
  {
   "cell_type": "markdown",
   "metadata": {},
   "source": [
    "Documentation created from the code above:\n",
    "\n",
    "[https://biobb-template.readthedocs.io/en/latest/template.html#template.template.Template.launch](https://biobb-template.readthedocs.io/en/latest/template.html#template.template.Template.launch)"
   ]
  },
  {
   "cell_type": "markdown",
   "metadata": {},
   "source": [
    "## Command line with Jupyter Notebook\n",
    "\n",
    "**Jupyter Notebook** (formerly IPython Notebooks) is a web-based interactive computational environment for creating [Jupyter](https://jupyter.org/) notebook documents. The *notebook* term can colloquially make reference to many different entities, mainly the Jupyter web application, Jupyter Python web server, or Jupyter document format depending on context. A **Jupyter Notebook** document is a JSON document, following a versioned schema, and containing an ordered list of **input/output cells** which can contain code, text (using Markdown), mathematics, plots and rich media, usually ending with the \".ipynb\" extension.\n",
    "\n",
    "A Jupyter Notebook can be converted to a number of open standard output formats (**HTML**, **presentation slides**, **LaTeX**, **PDF**, **ReStructuredText**, **Markdown**, **Python**) through *Download As* in the web interface, via the nbconvert library or *jupyter nbconvert* command line interface in a shell.\n",
    "\n",
    "To simplify visualisation of **Jupyter Notebook** documents on the web, the nbconvert library is provided as a service through NbViewer which can take a URL to any publicly available notebook document, convert it to **HTML on the fly** and display it to the user.\n",
    "\n",
    "The command line of the *biobb_template* has been written in **Jupyter Notebook** and then converted to **Markdown**. Thus, the **Jupyter Notebook file** in the *biobb_template/biobb_template/docs/jupyter* folder is exported to the **command_line.md Markdown file** in the *biobb_template/biobb_template/docs/source* folder.\n",
    "\n",
    "* **Jupyter Notebook** file: [https://github.com/bioexcel/biobb_template/blob/master/biobb_template/docs/jupyter/command_line_template.ipynb](https://github.com/bioexcel/biobb_template/blob/master/biobb_template/docs/jupyter/command_line_template.ipynb)\n",
    "\n",
    "* **Markdown** file: [https://github.com/bioexcel/biobb_template/blob/master/biobb_template/docs/source/command_line.md](https://github.com/bioexcel/biobb_template/blob/master/biobb_template/docs/source)\n",
    "\n",
    "For executing the **Jupyter Notebbok** folder, please do the next steps:\n",
    "\n",
    "```Shell\n",
    "conda activate biobb_template\n",
    "cd biobb_template/biobb_template/docs/jupyter\n",
    "jupyter notebook\n",
    "```\n",
    "\n",
    "That will open a new tab in your browser:\n",
    "\n",
    "<img src=\"_static/jupyter.png\" />\n",
    "\n",
    "Then click on the *command_line_template.ipynb* file, and the browser will open it in the **Jupyter Notebook**.\n",
    "\n",
    "From now on, you just need to change cells of this template by the ones of your own **BioBB**.\n",
    "\n",
    "As said before, for the sake of easy the command line execution, it’s recommendable to configure binary paths in your environment. More info about this subject can be found in the [Binary path configuration](https://biobb-documentation.readthedocs.io/en/latest/execution.html#binary-path-configuration) section. If you pay attention you will see that, for example in the first code cell, we have the following instruction:"
   ]
  },
  {
   "cell_type": "code",
   "execution_count": null,
   "metadata": {},
   "outputs": [],
   "source": [
    "template -h"
   ]
  },
  {
   "cell_type": "markdown",
   "metadata": {},
   "source": [
    "That's a command line instruction with the following output (second code cell in the notebook):"
   ]
  },
  {
   "cell_type": "code",
   "execution_count": null,
   "metadata": {},
   "outputs": [],
   "source": [
    "usage: template [-h] [--config CONFIG] --input_file_path1 INPUT_FILE_PATH1 [--input_file_path2 INPUT_FILE_PATH2] --output_file_path OUTPUT_FILE_PATH\n",
    "\n",
    "Description for the template module.\n",
    "\n",
    "optional arguments:\n",
    "  -h, --help            show this help message and exit\n",
    "  --config CONFIG       Configuration file\n",
    "  --input_file_path2 INPUT_FILE_PATH2\n",
    "                        Description for the second input file path (optional). Accepted formats: dcd.\n",
    "\n",
    "required arguments:\n",
    "  --input_file_path1 INPUT_FILE_PATH1\n",
    "                        Description for the first input file path. Accepted formats: top.\n",
    "  --output_file_path OUTPUT_FILE_PATH\n",
    "                        Description for the output file path. Accepted formats: zip."
   ]
  },
  {
   "cell_type": "markdown",
   "metadata": {},
   "source": [
    "But for executing a command line instruction in **Jupyter Notebook**, we need to add a **!** symbol before the instruction:"
   ]
  },
  {
   "cell_type": "code",
   "execution_count": null,
   "metadata": {},
   "outputs": [],
   "source": [
    "!template -h"
   ]
  },
  {
   "cell_type": "markdown",
   "metadata": {},
   "source": [
    "Then we simply remove the **!** symbol for having a matching between the documentation and a real command line instruction.\n",
    "\n",
    "The rest of the command line instructions of the template can also be executed in the same way."
   ]
  }
 ],
 "metadata": {
  "kernelspec": {
   "display_name": "Python 3",
   "language": "python",
   "name": "python3"
  },
  "language_info": {
   "codemirror_mode": {
    "name": "ipython",
    "version": 3
   },
   "file_extension": ".py",
   "mimetype": "text/x-python",
   "name": "python",
   "nbconvert_exporter": "python",
   "pygments_lexer": "ipython3",
   "version": "3.6.7"
  }
 },
 "nbformat": 4,
 "nbformat_minor": 4
}
