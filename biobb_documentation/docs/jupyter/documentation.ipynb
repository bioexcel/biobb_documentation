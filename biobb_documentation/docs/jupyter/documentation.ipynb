{
 "cells": [
  {
   "cell_type": "markdown",
   "metadata": {},
   "source": [
    "# Documentation"
   ]
  },
  {
   "cell_type": "markdown",
   "metadata": {},
   "source": [
    "## Introduction\n",
    "\n",
    "All the documentation of **BioExcel Building Blocks** is available in [Read the Docs](https://readthedocs.org/), a software documentation hosting platform where the source code is freely available, and the service is also free to use. It generates documentation that is written with the [Sphinx documentation generator](https://www.sphinx-doc.org/en/master/).\n",
    "\n",
    "All the documentation of **BioBBs** is written in [**reStructuredText**](https://thomas-cokelaer.info/tutorials/sphinx/rest_syntax.html) and [**Markdown**](https://www.markdownguide.org/basic-syntax/):\n",
    "\n",
    "* **reStructuredText** (RST, ReST, or reST) is a file format for textual data used primarily in the Python programming language community for technical documentation.\n",
    "* **Markdown** is a lightweight markup language with plain-text-formatting syntax. Its design allows it to be converted to many output formats.\n",
    "\n",
    "The documentation of a **BioBB** package is divided into three parts:\n",
    "\n",
    "### Introduction and installation\n",
    "\n",
    "[https://biobb-template.readthedocs.io/en/latest/readme.html](https://biobb-template.readthedocs.io/en/latest/readme.html)\n",
    "\n",
    "**README.md** file written in **Markdown** language that is a copy of the main **README.md** file of the **BioBB** package. The **README.md** source code of de *biobb_template* documentation is located in:\n",
    "\n",
    "[https://github.com/bioexcel/biobb_template/blob/master/biobb_template/docs/source/readme.md](https://github.com/bioexcel/biobb_template/blob/master/biobb_template/docs/source/readme.md)\n",
    "\n",
    "### API documentation\n",
    "\n",
    "[https://biobb-template.readthedocs.io/en/latest/modules.html](https://biobb-template.readthedocs.io/en/latest/modules.html)\n",
    "\n",
    "This section contains all the documentation related to the source code of the different modules of a **BioBB** package.\n",
    "\n",
    "In order to **easy the process** of documentation, the **BioExcel Building Blocks** use the [sphinx autodoc extension](http://www.sphinx-doc.org/en/master/usage/extensions/autodoc.html) that generates automatically all the documentation related to the source code respecting a certain **format for the comments** explained below in this same section.\n",
    "\n",
    "### Command Line Documentation\n",
    "\n",
    "[https://biobb-template.readthedocs.io/en/latest/command_line.html](https://biobb-template.readthedocs.io/en/latest/command_line.html)\n",
    "\n",
    "This file is written in **Markdown**, though to easy the writting process (and also because there are some code executions in this process), we write it first in **Jupyter Notebook**, and then import it to **Markdown**.\n",
    "\n",
    "* **Jupyter Notebook** file: [https://github.com/bioexcel/biobb_template/blob/master/biobb_template/docs/jupyter/command_line_template.ipynb](https://github.com/bioexcel/biobb_template/blob/master/biobb_template/docs/jupyter/command_line_template.ipynb)\n",
    "\n",
    "* **Markdown** file: [https://github.com/bioexcel/biobb_template/blob/master/biobb_template/docs/source/command_line.md](https://github.com/bioexcel/biobb_template/blob/master/biobb_template/docs/source/command_line.md)\n",
    "\n",
    "[Click here](https://biobb-template.readthedocs.io/en/latest/index.html) to access to the index page documentation of the *biobb_template*."
   ]
  },
  {
   "cell_type": "markdown",
   "metadata": {},
   "source": [
    "## Files structure\n",
    "\n",
    "### \\_\\_init\\_\\_.py files\n",
    "\n",
    "As explained in the [Files structure](https://biobb-documentation.readthedocs.io/en/latest/files_structure.html) section, there are two **\\_\\_init\\_\\_.py** files:\n",
    "\n",
    "* **biobb_template/biobb_template/\\_\\_init\\_\\_.py**: define the package name (*biobb_template*) and all the modules contained in this package, only one in this example (*template*)."
   ]
  },
  {
   "cell_type": "code",
   "execution_count": null,
   "metadata": {},
   "outputs": [],
   "source": [
    "name = \"biobb_template\"\n",
    "__all__ = [\"template\"]"
   ]
  },
  {
   "cell_type": "markdown",
   "metadata": {},
   "source": [
    "* **biobb_template/biobb_template/template/\\_\\_init\\_\\_.py**: define the folder name (*template*) and all the tools contained in this folder, only two in this example (*template* and *template_container*)."
   ]
  },
  {
   "cell_type": "code",
   "execution_count": null,
   "metadata": {},
   "outputs": [],
   "source": [
    "name = \"template\"\n",
    "__all__ = [\"template\", \"template_container\"]"
   ]
  },
  {
   "cell_type": "markdown",
   "metadata": {},
   "source": [
    "This two files are used by the [sphinx autodoc extension](http://www.sphinx-doc.org/en/master/usage/extensions/autodoc.html) for parsing the directories structure of our **BioBB**. Therefore, it's very important to define them properly and put only the **modules / tools** we want to documentate automatically.\n",
    "\n",
    "### docs folder\n",
    "\n",
    "The structure of the docs folder is as follows:\n",
    "\n",
    "* docs/\n",
    "    * jupyter/\n",
    "        * command_line_template.ipynb\n",
    "    * source/\n",
    "        * \\_static/\n",
    "        * command_line.md\n",
    "        * conf.py\n",
    "        * index.rst\n",
    "        * modules.rst\n",
    "        * readme.md\n",
    "        * schema.html\n",
    "        * template.rst\n",
    "    * Makefile\n",
    "    \n"
   ]
  },
  {
   "cell_type": "markdown",
   "metadata": {},
   "source": [
    "## Formats in code comments\n",
    "\n",
    "### Arguments\n",
    "\n",
    "### Functions"
   ]
  },
  {
   "cell_type": "markdown",
   "metadata": {},
   "source": [
    "## Jupyter Notebook\n",
    "\n",
    "some text"
   ]
  }
 ],
 "metadata": {
  "kernelspec": {
   "display_name": "Python 3",
   "language": "python",
   "name": "python3"
  },
  "language_info": {
   "codemirror_mode": {
    "name": "ipython",
    "version": 3
   },
   "file_extension": ".py",
   "mimetype": "text/x-python",
   "name": "python",
   "nbconvert_exporter": "python",
   "pygments_lexer": "ipython3",
   "version": "3.6.7"
  }
 },
 "nbformat": 4,
 "nbformat_minor": 4
}
