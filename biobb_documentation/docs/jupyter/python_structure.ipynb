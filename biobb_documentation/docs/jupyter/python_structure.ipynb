{
 "cells": [
  {
   "cell_type": "markdown",
   "metadata": {},
   "source": [
    "# Python structure\n",
    "\n",
    "In this section we will describe the basic structure of the wrapped tool python files."
   ]
  },
  {
   "cell_type": "markdown",
   "metadata": {},
   "source": [
    "## Template class\n",
    "\n",
    "Structure description for the **Template** class of the *biobb_template/biobb_template/template/template.py* file. The complete source code is available in the [biobb_template repository](https://github.com/bioexcel/biobb_template/blob/master/biobb_template/template/template.py)."
   ]
  },
  {
   "cell_type": "markdown",
   "metadata": {},
   "source": [
    "### Imports"
   ]
  },
  {
   "cell_type": "code",
   "execution_count": null,
   "metadata": {},
   "outputs": [],
   "source": [
    "import argparse\n",
    "import shutil\n",
    "from pathlib import Path, PurePath\n",
    "from biobb_common.configuration import  settings\n",
    "from biobb_common.tools import file_utils as fu\n",
    "from biobb_common.tools.file_utils import launchlogger\n",
    "from biobb_common.command_wrapper import cmd_wrapper"
   ]
  },
  {
   "cell_type": "markdown",
   "metadata": {},
   "source": [
    "Libraries used for the execution of the **Template** class."
   ]
  },
  {
   "cell_type": "markdown",
   "metadata": {},
   "source": [
    "### Comments\n",
    "\n",
    "The automatic documentation generation system through [**sphinx**](https://www.sphinx-doc.org/en/master/) is explained in detail in the [Documentation section](https://biobb-documentation.readthedocs.io/en/latest/documentation.html).\n",
    "\n",
    "In the first line of the Template class we define all the arguments explained in the [Arguments](https://biobb-documentation.readthedocs.io/en/latest/arguments.html) section inside a set of triple quotes:"
   ]
  },
  {
   "cell_type": "code",
   "execution_count": null,
   "metadata": {},
   "outputs": [],
   "source": [
    "\"\"\"Description for the template (http://templatedocumentation.org) module.\n",
    "\n",
    "Args:\n",
    "    input_file_path1 (str): Description for the first input file path. File type: input. `Sample file <https://urlto.sample>`_. Accepted formats: top.\n",
    "    input_file_path2 (str) (Optional): Description for the second input file path (optional). File type: input. `Sample file <https://urlto.sample>`_. Accepted formats: dcd.\n",
    "    output_file_path (str): Description for the output file path. File type: output. `Sample file <https://urlto.sample>`_. Accepted formats: zip.\n",
    "    properties (dic):\n",
    "        * **boolean_property** (*bool*) - (True) Example of boolean property.\n",
    "        * **executable_binary_property** (*str*) - (\"zip\") Example of executable binary property.\n",
    "        * **remove_tmp** (*bool*) - (True) [WF property] Remove temporal files.\n",
    "        * **restart** (*bool*) - (False) [WF property] Do not execute if output files exist.\n",
    "\"\"\""
   ]
  },
  {
   "cell_type": "markdown",
   "metadata": {},
   "source": [
    "All the multiline comments inside a set of triple quotes are used later as the function definition:"
   ]
  },
  {
   "cell_type": "code",
   "execution_count": null,
   "metadata": {},
   "outputs": [],
   "source": [
    "def launch(self):\n",
    "    \"\"\"Launches the execution of the template module.\"\"\""
   ]
  },
  {
   "cell_type": "markdown",
   "metadata": {},
   "source": [
    "### main() function\n",
    "\n",
    "In the *main()* function we define the command line inputs and outputs and then we pass them to the launch function (described below) of the **Template** class."
   ]
  },
  {
   "cell_type": "code",
   "execution_count": null,
   "metadata": {},
   "outputs": [],
   "source": [
    "def main():\n",
    "    parser = argparse.ArgumentParser(description='Description for the template module.', formatter_class=lambda prog: argparse.RawTextHelpFormatter(prog, width=99999))\n",
    "    parser.add_argument('--config', required=False, help='Configuration file')\n",
    "\n",
    "    # 10. Include specific args of each building block following the examples. They should match step 2\n",
    "    required_args = parser.add_argument_group('required arguments')\n",
    "    required_args.add_argument('--input_file_path1', required=True, help='Description for the first input file path. Accepted formats: top.')\n",
    "    parser.add_argument('--input_file_path2', required=False, help='Description for the second input file path (optional). Accepted formats: dcd.')\n",
    "    required_args.add_argument('--output_file_path', required=True, help='Description for the output file path. Accepted formats: zip.')\n",
    "\n",
    "    args = parser.parse_args()\n",
    "    config = args.config if args.config else None\n",
    "    properties = settings.ConfReader(config=config).get_prop_dic()\n",
    "\n",
    "    # 11. Adapt to match Class constructor (step 2)\n",
    "    # Specific call of each building block\n",
    "    Template(input_file_path1=args.input_file_path1, input_file_path2=args.input_file_path2, \n",
    "             output_file_path=args.output_file_path, \n",
    "             properties=properties).launch()"
   ]
  },
  {
   "cell_type": "markdown",
   "metadata": {},
   "source": [
    "### \\_\\_init\\_\\_() function\n",
    "\n",
    "In the *\\_\\_init\\_\\_()* function initialises the **Template** class. In this function a dictionary with all the inputs and output (*self.io_dict*) is created, and all the properties are initialised."
   ]
  },
  {
   "cell_type": "code",
   "execution_count": null,
   "metadata": {},
   "outputs": [],
   "source": [
    "# 2. Adapt input and output file paths as required. Include all files, even optional ones\n",
    "def __init__(self, input_file_path1, input_file_path2, output_file_path, properties, **kwargs):\n",
    "    properties = properties or {}\n",
    "\n",
    "    # 2.1 Modify to match constructor parameters\n",
    "    # Input/Output files\n",
    "    self.io_dict = { \n",
    "        'in': { 'input_file_path1': input_file_path1, 'input_file_path2': input_file_path2 }, \n",
    "        'out': { 'output_file_path': output_file_path } \n",
    "    }\n",
    "\n",
    "    # 3. Include all relevant properties here as \n",
    "    # self.property_name = properties.get('property_name', property_default_value)\n",
    "\n",
    "    # Properties specific for BB\n",
    "    self.properties = properties\n",
    "    self.boolean_property = properties.get('boolean_property', True)\n",
    "    self.executable_binary_property = properties.get('executable_binary_property', 'zip')\n",
    "\n",
    "    # Properties common in all BB\n",
    "    self.can_write_console_log = properties.get('can_write_console_log', True)\n",
    "    self.global_log = properties.get('global_log', None)\n",
    "    self.prefix = properties.get('prefix', None)\n",
    "    self.step = properties.get('step', None)\n",
    "    self.path = properties.get('path', '')\n",
    "    self.remove_tmp = properties.get('remove_tmp', True)\n",
    "    self.restart = properties.get('restart', False)"
   ]
  },
  {
   "cell_type": "markdown",
   "metadata": {},
   "source": [
    "### launch() function\n",
    "\n",
    "In the function *launch()* we perform all the actions needed for the wrapping: creation of temporary folder(s), creation of command line, execution of command line and removing of the temporary folder(s). In this case we will comment all the blocks that shape this function separately.\n",
    "\n",
    "#### @launchlogger decorator\n",
    "Decorator used for wrapping the log. "
   ]
  },
  {
   "cell_type": "code",
   "execution_count": null,
   "metadata": {},
   "outputs": [],
   "source": [
    "@launchlogger\n",
    "def launch(self):\n",
    "    \"\"\"Launches the execution of the template module.\"\"\""
   ]
  },
  {
   "cell_type": "markdown",
   "metadata": {},
   "source": [
    "#### Loggers definition\n",
    "Definition of local loggers from launchlogger decorator."
   ]
  },
  {
   "cell_type": "code",
   "execution_count": null,
   "metadata": {},
   "outputs": [],
   "source": [
    "# Get local loggers from launchlogger decorator\n",
    "out_log = getattr(self, 'out_log', None)\n",
    "err_log = getattr(self, 'err_log', None)"
   ]
  },
  {
   "cell_type": "markdown",
   "metadata": {},
   "source": [
    "#### Properties checking\n",
    "Check if provided properties match with the ones defined for this tool."
   ]
  },
  {
   "cell_type": "code",
   "execution_count": null,
   "metadata": {},
   "outputs": [],
   "source": [
    "# Check the properties\n",
    "fu.check_properties(self, self.properties)"
   ]
  },
  {
   "cell_type": "markdown",
   "metadata": {},
   "source": [
    "#### Restart\n",
    "If *restart* property is enabled, skip this step. This property is only used for workflow purposes."
   ]
  },
  {
   "cell_type": "code",
   "execution_count": null,
   "metadata": {},
   "outputs": [],
   "source": [
    "# Restart\n",
    "if self.restart:\n",
    "    # 4. Include here all output file paths\n",
    "    output_file_list = [self.io_dict['out']['output_file_path']]\n",
    "    if fu.check_complete_files(output_file_list):\n",
    "        fu.log('Restart is enabled, this step: %s will the skipped' % self.step, out_log, self.global_log)\n",
    "        return 0"
   ]
  },
  {
   "cell_type": "markdown",
   "metadata": {},
   "source": [
    "#### Temporary folder\n",
    "Creation of a temporary folder and copy the required input file inside it."
   ]
  },
  {
   "cell_type": "code",
   "execution_count": null,
   "metadata": {},
   "outputs": [],
   "source": [
    "# Creating temporary folder\n",
    "self.tmp_folder = fu.create_unique_dir()\n",
    "fu.log('Creating %s temporary folder' % self.tmp_folder, out_log)\n",
    "\n",
    "# 5. Include here all mandatory input files\n",
    "# Copy input_file_path1 to temporary folder\n",
    "shutil.copy(self.io_dict['in']['input_file_path1'], self.tmp_folder)"
   ]
  },
  {
   "cell_type": "markdown",
   "metadata": {},
   "source": [
    "#### Command line\n",
    "Creation of command line call. If *boolean_property* is enabled, append **-v** option to command line."
   ]
  },
  {
   "cell_type": "code",
   "execution_count": null,
   "metadata": {},
   "outputs": [],
   "source": [
    "# 6. Prepare the command line parameters as instructions list\n",
    "instructions = ['-j']\n",
    "if self.boolean_property:\n",
    "    instructions.append('-v')\n",
    "    fu.log('Appending optional boolean property', out_log, self.global_log)\n",
    "\n",
    "# 7. Build the actual command line as a list of items (elements order will be maintained)\n",
    "cmd = [self.executable_binary_property,\n",
    "       ' '.join(instructions), \n",
    "       self.io_dict['out']['output_file_path'],\n",
    "       str(PurePath(self.tmp_folder).joinpath(PurePath(self.io_dict['in']['input_file_path1']).name))]\n",
    "fu.log('Creating command line with instructions and required arguments', out_log, self.global_log)"
   ]
  },
  {
   "cell_type": "markdown",
   "metadata": {},
   "source": [
    "#### Optional input file\n",
    "\n",
    "If optional input file provided, copy it to the temporary folder and append it to the command line call."
   ]
  },
  {
   "cell_type": "code",
   "execution_count": null,
   "metadata": {},
   "outputs": [],
   "source": [
    "# 8. Repeat for optional input files if provided\n",
    "if self.io_dict['in']['input_file_path2']:\n",
    "    # Copy input_file_path2 to temporary folder\n",
    "    shutil.copy(self.io_dict['in']['input_file_path2'], self.tmp_folder)\n",
    "    # Append optional input_file_path2 to cmd\n",
    "    cmd.append(str(PurePath(self.tmp_folder).joinpath(PurePath(self.io_dict['in']['input_file_path2']).name)))\n",
    "    fu.log('Appending optional argument to command line', out_log, self.global_log)"
   ]
  },
  {
   "cell_type": "markdown",
   "metadata": {},
   "source": [
    "#### Launch execution"
   ]
  },
  {
   "cell_type": "code",
   "execution_count": null,
   "metadata": {},
   "outputs": [],
   "source": [
    "# Launch execution\n",
    "returncode = cmd_wrapper.CmdWrapper(cmd, out_log, err_log, self.global_log).launch()"
   ]
  },
  {
   "cell_type": "markdown",
   "metadata": {},
   "source": [
    "#### Remove temporary file(s)\n",
    "If *remove_tmp* is enabled, remove temporary file(s) created during the execution. Then, return *returncode* and finish the function."
   ]
  },
  {
   "cell_type": "code",
   "execution_count": null,
   "metadata": {},
   "outputs": [],
   "source": [
    "# Remove temporary file(s)\n",
    "if self.remove_tmp: \n",
    "    fu.rm(self.tmp_folder)\n",
    "    fu.log('Removed: %s' % str(self.tmp_folder), out_log)\n",
    "    \n",
    "return returncode"
   ]
  },
  {
   "cell_type": "markdown",
   "metadata": {},
   "source": [
    "## TemplateContainer class\n",
    "\n",
    "Structure description for the **TemplateContainer** class of the *biobb_template/biobb_template/template/template_container.py* file. The complete source code is available in the [biobb_template repository](https://github.com/bioexcel/biobb_template/blob/master/biobb_template/template/template_container.py)."
   ]
  },
  {
   "cell_type": "markdown",
   "metadata": {},
   "source": [
    "### Imports"
   ]
  },
  {
   "cell_type": "code",
   "execution_count": null,
   "metadata": {},
   "outputs": [],
   "source": [
    "import argparse\n",
    "import shutil\n",
    "from pathlib import Path, PurePath\n",
    "from biobb_common.configuration import  settings\n",
    "from biobb_common.tools import file_utils as fu\n",
    "from biobb_common.tools.file_utils import launchlogger\n",
    "from biobb_common.command_wrapper import cmd_wrapper"
   ]
  },
  {
   "cell_type": "markdown",
   "metadata": {},
   "source": [
    "Libraries used for the execution of the **TemplateContainer** class."
   ]
  },
  {
   "cell_type": "markdown",
   "metadata": {},
   "source": [
    "### Comments\n",
    "\n",
    "The automatic documentation generation system through [**sphinx**](https://www.sphinx-doc.org/en/master/) is explained in detail in the [Documentation section](https://biobb-documentation.readthedocs.io/en/latest/documentation.html).\n",
    "\n",
    "In the first line of the Template class we define all the arguments explained in the [Arguments](https://biobb-documentation.readthedocs.io/en/latest/arguments.html) section inside a set of triple quotes:"
   ]
  },
  {
   "cell_type": "code",
   "execution_count": null,
   "metadata": {},
   "outputs": [],
   "source": [
    "\"\"\"Description for the template container (http://templatedocumentation.org) module.\n",
    "\n",
    "Args:\n",
    "    input_file_path1 (str): Description for the first input file path. File type: input. `Sample file <https://urlto.sample>`_. Accepted formats: top.\n",
    "    input_file_path2 (str) (Optional): Description for the second input file path (optional). File type: input. `Sample file <https://urlto.sample>`_. Accepted formats: dcd.\n",
    "    output_file_path (str): Description for the output file path. File type: output. `Sample file <https://urlto.sample>`_. Accepted formats: zip.\n",
    "    properties (dic):\n",
    "        * **boolean_property** (*bool*) - (True) Example of boolean property.\n",
    "        * **executable_binary_property** (*str*) - (\"zip\") Example of executable binary property.\n",
    "        * **remove_tmp** (*bool*) - (True) [WF property] Remove temporal files.\n",
    "        * **restart** (*bool*) - (False) [WF property] Do not execute if output files exist.\n",
    "        * **container_path** (*str*) - (None) Container path definition.\n",
    "        * **container_image** (*str*) - ('mmbirb/zip:latest') Container image definition.\n",
    "        * **container_volume_path** (*str*) - ('/tmp') Container volume path definition.\n",
    "        * **container_working_dir** (*str*) - (None) Container working directory definition.\n",
    "        * **container_user_id** (*str*) - (None) Container user_id definition.\n",
    "        * **container_shell_path** (*str*) - ('/bin/bash') Path to default shell inside the container.\n",
    "\"\"\""
   ]
  },
  {
   "cell_type": "markdown",
   "metadata": {},
   "source": [
    "All the multiline comments inside a set of triple quotes are used later as the function definition:"
   ]
  },
  {
   "cell_type": "code",
   "execution_count": null,
   "metadata": {},
   "outputs": [],
   "source": [
    "def launch(self):\n",
    "    \"\"\"Launches the execution of the template_container module.\"\"\""
   ]
  },
  {
   "cell_type": "markdown",
   "metadata": {},
   "source": [
    "### main() function\n",
    "\n",
    "In the *main()* function we define the command line inputs and outputs and then we pass them to the launch function (described below) of the **TemplateContainer** class."
   ]
  },
  {
   "cell_type": "code",
   "execution_count": null,
   "metadata": {},
   "outputs": [],
   "source": [
    "def main():\n",
    "    parser = argparse.ArgumentParser(description='Description for the template module.', formatter_class=lambda prog: argparse.RawTextHelpFormatter(prog, width=99999))\n",
    "    parser.add_argument('--config', required=False, help='Configuration file')\n",
    "\n",
    "    # 11. Include specific args of each building block following the examples. They should match step 2\n",
    "    required_args = parser.add_argument_group('required arguments')\n",
    "    required_args.add_argument('--input_file_path1', required=True, help='Description for the first input file path. Accepted formats: top.')\n",
    "    parser.add_argument('--input_file_path2', required=False, help='Description for the second input file path (optional). Accepted formats: dcd.')\n",
    "    required_args.add_argument('--output_file_path', required=True, help='Description for the output file path. Accepted formats: zip.')\n",
    "\n",
    "    args = parser.parse_args()\n",
    "    config = args.config if args.config else None\n",
    "    properties = settings.ConfReader(config=config).get_prop_dic()\n",
    "\n",
    "    # 12. Adapt to match Class constructor (step 2)\n",
    "    # Specific call of each building block\n",
    "    TemplateContainer(input_file_path1=args.input_file_path1, input_file_path2=args.input_file_path2, \n",
    "                      output_file_path=args.output_file_path, \n",
    "                      properties=properties).launch()"
   ]
  },
  {
   "cell_type": "markdown",
   "metadata": {},
   "source": [
    "### \\_\\_init\\_\\_() function\n",
    "\n",
    "In the *\\_\\_init\\_\\_()* function initialises the **TemplateContainer** class. In this function a dictionary with all the inputs and output (*self.io_dict*) is created, and all the properties are initialised."
   ]
  },
  {
   "cell_type": "code",
   "execution_count": null,
   "metadata": {},
   "outputs": [],
   "source": [
    "# 2. Adapt input and output file paths as required. Include all files, even optional ones\n",
    "def __init__(self, input_file_path1, input_file_path2, output_file_path, properties, **kwargs):\n",
    "    properties = properties or {}\n",
    "\n",
    "    # 2.1 Modify to match constructor parameters\n",
    "    # Input/Output files\n",
    "    self.io_dict = { \n",
    "        'in': { 'input_file_path1': input_file_path1, 'input_file_path2': input_file_path2 }, \n",
    "        'out': { 'output_file_path': output_file_path } \n",
    "    }\n",
    "\n",
    "    # 3. Include all relevant properties here as \n",
    "    # self.property_name = properties.get('property_name', property_default_value)\n",
    "\n",
    "    # Properties specific for BB\n",
    "    self.properties = properties\n",
    "    self.boolean_property = properties.get('boolean_property', True)\n",
    "    self.executable_binary_property = properties.get('executable_binary_property', 'zip')\n",
    "\n",
    "    # container Specific\n",
    "    self.container_path = properties.get('container_path')\n",
    "    self.container_image = properties.get('container_image', 'mmbirb/zip:latest')\n",
    "    self.container_volume_path = properties.get('container_volume_path', '/tmp')\n",
    "    self.container_working_dir = properties.get('container_working_dir')\n",
    "    self.container_user_id = properties.get('container_user_id')\n",
    "    self.container_shell_path = properties.get('container_shell_path', '/bin/bash')\n",
    "\n",
    "    # Properties common in all BB\n",
    "    self.can_write_console_log = properties.get('can_write_console_log', True)\n",
    "    self.global_log = properties.get('global_log', None)\n",
    "    self.prefix = properties.get('prefix', None)\n",
    "    self.step = properties.get('step', None)\n",
    "    self.path = properties.get('path', '')\n",
    "    self.remove_tmp = properties.get('remove_tmp', True)\n",
    "    self.restart = properties.get('restart', False)"
   ]
  },
  {
   "cell_type": "markdown",
   "metadata": {},
   "source": [
    "### launch() function\n",
    "\n",
    "In the function *launch()* we perform all the actions needed for the wrapping: creation of temporary folder(s), mapping of these temporary folder(s) to the container, creation of command line, execution of command line, retrieve of data from the container and removing of the temporary folder(s). In this case we will comment all the blocks that shape this function separately.\n",
    "\n",
    "#### @launchlogger decorator\n",
    "Decorator used for wrapping the log. "
   ]
  },
  {
   "cell_type": "code",
   "execution_count": null,
   "metadata": {},
   "outputs": [],
   "source": [
    "@launchlogger\n",
    "def launch(self):\n",
    "    \"\"\"Launches the execution of the template_container module.\"\"\""
   ]
  },
  {
   "cell_type": "markdown",
   "metadata": {},
   "source": [
    "#### Loggers definition\n",
    "Definition of local loggers from launchlogger decorator."
   ]
  },
  {
   "cell_type": "code",
   "execution_count": null,
   "metadata": {},
   "outputs": [],
   "source": [
    "# Get local loggers from launchlogger decorator\n",
    "out_log = getattr(self, 'out_log', None)\n",
    "err_log = getattr(self, 'err_log', None)"
   ]
  },
  {
   "cell_type": "markdown",
   "metadata": {},
   "source": [
    "#### Properties checking\n",
    "Check if provided properties match with the ones defined for this tool."
   ]
  },
  {
   "cell_type": "code",
   "execution_count": null,
   "metadata": {},
   "outputs": [],
   "source": [
    "# Check the properties\n",
    "fu.check_properties(self, self.properties)"
   ]
  },
  {
   "cell_type": "markdown",
   "metadata": {},
   "source": [
    "#### Restart\n",
    "If *restart* property is enabled, skip this step. This property is only used for workflow purposes."
   ]
  },
  {
   "cell_type": "code",
   "execution_count": null,
   "metadata": {},
   "outputs": [],
   "source": [
    "# Restart\n",
    "if self.restart:\n",
    "    # 4. Include here all output file paths\n",
    "    output_file_list = [self.io_dict['out']['output_file_path']]\n",
    "    if fu.check_complete_files(output_file_list):\n",
    "        fu.log('Restart is enabled, this step: %s will the skipped' % self.step, out_log, self.global_log)\n",
    "        return 0"
   ]
  },
  {
   "cell_type": "markdown",
   "metadata": {},
   "source": [
    "#### Copy inputs to container\n",
    "Creation of a temporary folder and map it to the *container_volume_path* path."
   ]
  },
  {
   "cell_type": "code",
   "execution_count": null,
   "metadata": {},
   "outputs": [],
   "source": [
    "# 5. Copy inputs to container\n",
    "container_io_dict = fu.copy_to_container(self.container_path, self.container_volume_path, self.io_dict)"
   ]
  },
  {
   "cell_type": "markdown",
   "metadata": {},
   "source": [
    "#### Command line\n",
    "Creation of command line call. If *boolean_property* is enabled, append **-v** option to command line."
   ]
  },
  {
   "cell_type": "code",
   "execution_count": null,
   "metadata": {},
   "outputs": [],
   "source": [
    "# 6. Prepare the command line parameters as instructions list\n",
    "instructions = ['-j']\n",
    "if self.boolean_property:\n",
    "    instructions.append('-v')\n",
    "    fu.log('Appending optional boolean property', out_log, self.global_log)\n",
    "\n",
    "# 7. Build the actual command line as a list of items (elements order will be maintained)\n",
    "cmd = [self.executable_binary_property,\n",
    "       ' '.join(instructions), \n",
    "       container_io_dict['out']['output_file_path'],\n",
    "       container_io_dict['in']['input_file_path1']]\n",
    "fu.log('Creating command line with instructions and required arguments', out_log, self.global_log)"
   ]
  },
  {
   "cell_type": "markdown",
   "metadata": {},
   "source": [
    "#### Optional input file\n",
    "\n",
    "If optional input file provided append it to the command line call."
   ]
  },
  {
   "cell_type": "code",
   "execution_count": null,
   "metadata": {},
   "outputs": [],
   "source": [
    "# 8. Repeat for optional input files if provided\n",
    "if container_io_dict['in']['input_file_path2']:\n",
    "    # Append optional input_file_path2 to cmd\n",
    "    cmd.append(container_io_dict['in']['input_file_path2'])\n",
    "    fu.log('Appending optional argument to command line', out_log, self.global_log)"
   ]
  },
  {
   "cell_type": "markdown",
   "metadata": {},
   "source": [
    "#### Launch execution\n",
    "\n",
    "Creation of command line according to the *container_path* property and the rest of container-related properties. Then, launch execution."
   ]
  },
  {
   "cell_type": "code",
   "execution_count": null,
   "metadata": {},
   "outputs": [],
   "source": [
    "# 10. Create cmd with specdific syntax according to the required container\n",
    "cmd = fu.create_cmd_line(cmd, container_path=self.container_path, \n",
    "                         host_volume=container_io_dict.get('unique_dir'), \n",
    "                         container_volume=self.container_volume_path, \n",
    "                         container_working_dir=self.container_working_dir, \n",
    "                         container_user_uid=self.container_user_id, \n",
    "                         container_image=self.container_image, \n",
    "                         container_shell_path=self.container_shell_path, \n",
    "                         out_log=out_log, global_log=self.global_log)\n",
    "\n",
    "# Launch execution\n",
    "returncode = cmd_wrapper.CmdWrapper(cmd, out_log, err_log, self.global_log).launch()"
   ]
  },
  {
   "cell_type": "markdown",
   "metadata": {},
   "source": [
    "#### Output data retrieval\n",
    "\n",
    "Copy output file(s) from the mapped *container_volume_path* inside the container to the definitive output path defined by the user in the arguments."
   ]
  },
  {
   "cell_type": "code",
   "execution_count": null,
   "metadata": {},
   "outputs": [],
   "source": [
    "# Copy output(s) to output(s) path(s) in case of container execution\n",
    "fu.copy_to_host(self.container_path, container_io_dict, self.io_dict)"
   ]
  },
  {
   "cell_type": "markdown",
   "metadata": {},
   "source": [
    "#### Remove temporary file(s)\n",
    "If *remove_tmp* is enabled, remove temporary file(s) created during the execution. Then, return *returncode* and finish the function."
   ]
  },
  {
   "cell_type": "code",
   "execution_count": null,
   "metadata": {},
   "outputs": [],
   "source": [
    "# Remove temporary file(s)\n",
    "if self.remove_tmp and container_io_dict.get('unique_dir'): \n",
    "    fu.rm(container_io_dict.get('unique_dir'))\n",
    "    fu.log('Removed: %s' % str(container_io_dict.get('unique_dir')), out_log)\n",
    "\n",
    "return returncode"
   ]
  }
 ],
 "metadata": {
  "kernelspec": {
   "display_name": "Python 3",
   "language": "python",
   "name": "python3"
  },
  "language_info": {
   "codemirror_mode": {
    "name": "ipython",
    "version": 3
   },
   "file_extension": ".py",
   "mimetype": "text/x-python",
   "name": "python",
   "nbconvert_exporter": "python",
   "pygments_lexer": "ipython3",
   "version": "3.6.7"
  }
 },
 "nbformat": 4,
 "nbformat_minor": 4
}
