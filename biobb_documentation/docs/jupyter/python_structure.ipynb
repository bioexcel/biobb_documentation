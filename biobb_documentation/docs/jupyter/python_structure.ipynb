{
 "cells": [
  {
   "cell_type": "markdown",
   "metadata": {},
   "source": [
    "# Python structure\n",
    "\n",
    "In this section we will describe the basic structure of the wrapped tool python files."
   ]
  },
  {
   "cell_type": "markdown",
   "metadata": {},
   "source": [
    "## Template class\n",
    "\n",
    "Structure description for the **Template** class of the *biobb_template/biobb_template/template/template.py* file. The complete source code is available in the [biobb_template repository](https://github.com/bioexcel/biobb_template/blob/master/biobb_template/template/template.py)."
   ]
  },
  {
   "cell_type": "markdown",
   "metadata": {},
   "source": [
    "### Imports"
   ]
  },
  {
   "cell_type": "code",
   "execution_count": null,
   "metadata": {},
   "outputs": [],
   "source": [
    "import argparse\n",
    "import shutil\n",
    "from pathlib import PurePath\n",
    "from biobb_common.generic.biobb_object import BiobbObject\n",
    "from biobb_common.configuration import  settings\n",
    "from biobb_common.tools import file_utils as fu\n",
    "from biobb_common.tools.file_utils import launchlogger"
   ]
  },
  {
   "cell_type": "markdown",
   "metadata": {},
   "source": [
    "Libraries used for the execution of the **Template** class."
   ]
  },
  {
   "cell_type": "markdown",
   "metadata": {},
   "source": [
    "### Class\n",
    "Class template inherits from BiobbObject parent class."
   ]
  },
  {
   "cell_type": "code",
   "execution_count": null,
   "metadata": {},
   "outputs": [],
   "source": [
    "# 1. Rename class as required\n",
    "class Template(BiobbObject):"
   ]
  },
  {
   "cell_type": "markdown",
   "metadata": {},
   "source": [
    "### Docstrings\n",
    "\n",
    "The automatic documentation generation system through [**sphinx**](https://www.sphinx-doc.org/en/master/) is explained in detail in the [Documentation section](https://biobb-documentation.readthedocs.io/en/latest/documentation.html#formats-in-code-comments).\n",
    "\n",
    "After the definition of the Template class we define all the arguments explained in the [Arguments](https://biobb-documentation.readthedocs.io/en/latest/arguments.html#arguments) section inside a set of triple quotes:"
   ]
  },
  {
   "cell_type": "code",
   "execution_count": null,
   "metadata": {},
   "outputs": [],
   "source": [
    "\"\"\"\n",
    "| biobb_template Template\n",
    "| Short description for the `template <http://templatedocumentation.org>`_ module in Restructured Text (reST) syntax. Mandatory.\n",
    "| Long description for the `template <http://templatedocumentation.org>`_ module in Restructured Text (reST) syntax. Optional.\n",
    "\n",
    "Args:        \n",
    "    input_file_path1 (str): Description for the first input file path. File type: input. `Sample file <https://urlto.sample>`_. Accepted formats: top (edam:format_3881).\n",
    "    input_file_path2 (str) (Optional): Description for the second input file path (optional). File type: input. `Sample file <https://urlto.sample>`_. Accepted formats: dcd (edam:format_3878).\n",
    "    output_file_path (str): Description for the output file path. File type: output. `Sample file <https://urlto.sample>`_. Accepted formats: zip (edam:format_3987).\n",
    "    properties (dic):\n",
    "        * **boolean_property** (*bool*) - (True) Example of boolean property.\n",
    "        * **executable_binary_property** (*str*) - (\"zip\") Example of executable binary property.\n",
    "        * **remove_tmp** (*bool*) - (True) [WF property] Remove temporal files.\n",
    "        * **restart** (*bool*) - (False) [WF property] Do not execute if output files exist.\n",
    "\n",
    "Examples:\n",
    "    This is a use example of how to use the building block from Python::\n",
    "\n",
    "        from biobb_template.template.template import template\n",
    "\n",
    "        prop = { \n",
    "            'boolean_property': True \n",
    "        }\n",
    "        template(input_file_path1='/path/to/myTopology.top',\n",
    "                output_file_path='/path/to/newCompressedFile.zip',\n",
    "                input_file_path2='/path/to/mytrajectory.dcd',\n",
    "                properties=prop)\n",
    "\n",
    "Info:\n",
    "    * wrapped_software:\n",
    "        * name: Zip\n",
    "        * version: >=3.0\n",
    "        * license: BSD 3-Clause\n",
    "    * ontology:\n",
    "        * name: EDAM\n",
    "        * schema: http://edamontology.org/EDAM.owl\n",
    "\n",
    "\"\"\""
   ]
  },
  {
   "cell_type": "markdown",
   "metadata": {},
   "source": [
    "The docstrings syntax is broadly explained in the [JSON Generator help](https://github.com/bioexcel/utils_biobb/tree/master/json#docs-specifications) of the [utils_biobb](https://github.com/bioexcel/utils_biobb) repository. Following accurately this syntax, the [JSON Generator Tool](https://github.com/bioexcel/utils_biobb/blob/master/json/json_generator.py) will automatically generate the JSON Schemas of the package."
   ]
  },
  {
   "cell_type": "markdown",
   "metadata": {},
   "source": [
    "All the multiline comments inside a set of triple quotes are used later as the function definition:"
   ]
  },
  {
   "cell_type": "code",
   "execution_count": null,
   "metadata": {},
   "outputs": [],
   "source": [
    "def launch(self) -> int:\n",
    "    \"\"\"Execute the :class:`Template <template.template.Template>` object.\"\"\""
   ]
  },
  {
   "cell_type": "markdown",
   "metadata": {},
   "source": [
    "### main() function\n",
    "\n",
    "In the *main()* function we define the command line inputs and outputs and then we pass them to the launch function (described below) of the **Template** class."
   ]
  },
  {
   "cell_type": "code",
   "execution_count": null,
   "metadata": {},
   "outputs": [],
   "source": [
    "def main():\n",
    "    \"\"\"Command line execution of this building block. Please check the command line documentation.\"\"\"\n",
    "    parser = argparse.ArgumentParser(description='Description for the template module.', formatter_class=lambda prog: argparse.RawTextHelpFormatter(prog, width=99999))\n",
    "    parser.add_argument('--config', required=False, help='Configuration file')\n",
    "\n",
    "    # 10. Include specific args of each building block following the examples. They should match step 2\n",
    "    required_args = parser.add_argument_group('required arguments')\n",
    "    required_args.add_argument('--input_file_path1', required=True, help='Description for the first input file path. Accepted formats: top.')\n",
    "    parser.add_argument('--input_file_path2', required=False, help='Description for the second input file path (optional). Accepted formats: dcd.')\n",
    "    required_args.add_argument('--output_file_path', required=True, help='Description for the output file path. Accepted formats: zip.')\n",
    "\n",
    "    args = parser.parse_args()\n",
    "    args.config = args.config or \"{}\"\n",
    "    properties = settings.ConfReader(config=args.config).get_prop_dic()\n",
    "\n",
    "    # 11. Adapt to match Class constructor (step 2)\n",
    "    # Specific call of each building block\n",
    "    template(input_file_path1=args.input_file_path1, \n",
    "             output_file_path=args.output_file_path, \n",
    "             input_file_path2=args.input_file_path2,\n",
    "             properties=properties)"
   ]
  },
  {
   "cell_type": "markdown",
   "metadata": {},
   "source": [
    "### \\_\\_init\\_\\_() function\n",
    "\n",
    "In the *\\_\\_init\\_\\_()* function initialises the **Template** class. In this function a dictionary with all the inputs and output (*self.io_dict*) is created, and all the properties are initialised."
   ]
  },
  {
   "cell_type": "code",
   "execution_count": null,
   "metadata": {},
   "outputs": [],
   "source": [
    "# 2. Adapt input and output file paths as required. Include all files, even optional ones\n",
    "def __init__(self, input_file_path1, output_file_path, \n",
    "            input_file_path2 = None, properties = None, **kwargs) -> None:\n",
    "    properties = properties or {}\n",
    "\n",
    "    # 2.0 Call parent class constructor\n",
    "    super().__init__(properties)\n",
    "\n",
    "    # 2.1 Modify to match constructor parameters\n",
    "    # Input/Output files\n",
    "    self.io_dict = { \n",
    "        'in': { 'input_file_path1': input_file_path1, 'input_file_path2': input_file_path2 }, \n",
    "        'out': { 'output_file_path': output_file_path } \n",
    "    }\n",
    "\n",
    "    # 3. Include all relevant properties here as \n",
    "    # self.property_name = properties.get('property_name', property_default_value)\n",
    "\n",
    "    # Properties specific for BB\n",
    "    self.boolean_property = properties.get('boolean_property', True)\n",
    "    self.executable_binary_property = properties.get('executable_binary_property', 'zip')\n",
    "    self.properties = properties\n",
    "\n",
    "    # Check the properties\n",
    "    self.check_properties(properties)"
   ]
  },
  {
   "cell_type": "markdown",
   "metadata": {},
   "source": [
    "### launch() function\n",
    "\n",
    "In the function *launch()* we perform all the actions needed for the wrapping: creation of temporary folder(s), creation of command line, execution of command line and removing of the temporary folder(s). In this case we will comment all the blocks that shape this function separately.\n",
    "\n",
    "#### @launchlogger decorator\n",
    "Decorator used for wrapping the log. "
   ]
  },
  {
   "cell_type": "code",
   "execution_count": null,
   "metadata": {},
   "outputs": [],
   "source": [
    "@launchlogger\n",
    "def launch(self) -> int:\n",
    "    \"\"\"Execute the :class:`Template <template.template.Template>` object.\"\"\""
   ]
  },
  {
   "cell_type": "markdown",
   "metadata": {},
   "source": [
    "#### Setup BioBB\n",
    "If *restart* property is enabled, skip this step. This property is only used for workflow purposes. Then, all files are staged."
   ]
  },
  {
   "cell_type": "code",
   "execution_count": null,
   "metadata": {},
   "outputs": [],
   "source": [
    "# 4. Setup Biobb\n",
    "if self.check_restart(): return 0\n",
    "self.stage_files()"
   ]
  },
  {
   "cell_type": "markdown",
   "metadata": {},
   "source": [
    "#### Temporary folder\n",
    "Creation of a temporary folder and copy the required input file inside it."
   ]
  },
  {
   "cell_type": "code",
   "execution_count": null,
   "metadata": {},
   "outputs": [],
   "source": [
    "# Creating temporary folder\n",
    "self.tmp_folder = fu.create_unique_dir()\n",
    "fu.log('Creating %s temporary folder' % self.tmp_folder, out_log)\n",
    "\n",
    "# 5. Include here all mandatory input files\n",
    "# Copy input_file_path1 to temporary folder\n",
    "shutil.copy(self.io_dict['in']['input_file_path1'], self.tmp_folder)"
   ]
  },
  {
   "cell_type": "markdown",
   "metadata": {},
   "source": [
    "#### Command line\n",
    "Creation of command line call. If *boolean_property* is enabled, append **-v** option to command line."
   ]
  },
  {
   "cell_type": "code",
   "execution_count": null,
   "metadata": {},
   "outputs": [],
   "source": [
    "# 6. Prepare the command line parameters as instructions list\n",
    "instructions = ['-j']\n",
    "if self.boolean_property:\n",
    "    instructions.append('-v')\n",
    "    fu.log('Appending optional boolean property', self.out_log, self.global_log)\n",
    "\n",
    "# 7. Build the actual command line as a list of items (elements order will be maintained)\n",
    "self.cmd = [self.executable_binary_property,\n",
    "       ' '.join(instructions), \n",
    "       self.io_dict['out']['output_file_path'],\n",
    "       str(PurePath(self.tmp_folder).joinpath(PurePath(self.io_dict['in']['input_file_path1']).name))]\n",
    "fu.log('Creating command line with instructions and required arguments', self.out_log, self.global_log)"
   ]
  },
  {
   "cell_type": "markdown",
   "metadata": {},
   "source": [
    "#### Optional input file\n",
    "\n",
    "If optional input file provided, copy it to the temporary folder and append it to the command line call."
   ]
  },
  {
   "cell_type": "code",
   "execution_count": null,
   "metadata": {},
   "outputs": [],
   "source": [
    "# 8. Repeat for optional input files if provided\n",
    "if self.io_dict['in']['input_file_path2']:\n",
    "    # Copy input_file_path2 to temporary folder\n",
    "    shutil.copy(self.io_dict['in']['input_file_path2'], self.tmp_folder)\n",
    "    # Append optional input_file_path2 to cmd\n",
    "    self.cmd.append(str(PurePath(self.tmp_folder).joinpath(PurePath(self.io_dict['in']['input_file_path2']).name)))\n",
    "    fu.log('Appending optional argument to command line', self.out_log, self.global_log)"
   ]
  },
  {
   "cell_type": "markdown",
   "metadata": {},
   "source": [
    "#### Launch execution"
   ]
  },
  {
   "cell_type": "code",
   "execution_count": null,
   "metadata": {},
   "outputs": [],
   "source": [
    "# Run Biobb block\n",
    "self.run_biobb()"
   ]
  },
  {
   "cell_type": "markdown",
   "metadata": {},
   "source": [
    "#### Remove temporary file(s)\n",
    "If *remove_tmp* is enabled, remove temporary file(s) created during the execution. Then, return *self.return_code* and finish the function."
   ]
  },
  {
   "cell_type": "code",
   "execution_count": null,
   "metadata": {},
   "outputs": [],
   "source": [
    "# Remove temporary file(s)\n",
    "if self.remove_tmp: \n",
    "    self.tmp_files.append(self.tmp_folder)\n",
    "    self.remove_tmp_files()\n",
    "\n",
    "return self.return_code"
   ]
  },
  {
   "cell_type": "markdown",
   "metadata": {},
   "source": [
    "### template() function\n",
    "\n",
    "In the function *template()* we call the launch() function of the class Template. It will be used for external calls to the Template class such as Jupyter Notebooks and some adapters."
   ]
  },
  {
   "cell_type": "code",
   "execution_count": null,
   "metadata": {},
   "outputs": [],
   "source": [
    "def template(input_file_path1: str, output_file_path: str, input_file_path2: str = None, properties: dict = None, **kwargs) -> None:\n",
    "\"\"\"Create :class:`Template <template.template.Template>` class and\n",
    "execute the :meth:`launch() <template.template.Template.launch>` method.\"\"\"\n",
    "\n",
    "return Template(input_file_path1=input_file_path1, \n",
    "                output_file_path=output_file_path,\n",
    "                input_file_path2=input_file_path2,\n",
    "                properties=properties, **kwargs).launch()"
   ]
  },
  {
   "cell_type": "markdown",
   "metadata": {},
   "source": [
    "## TemplateContainer class\n",
    "\n",
    "Structure description for the **TemplateContainer** class of the *biobb_template/biobb_template/template/template_container.py* file. The complete source code is available in the [biobb_template repository](https://github.com/bioexcel/biobb_template/blob/master/biobb_template/template/template_container.py)."
   ]
  },
  {
   "cell_type": "markdown",
   "metadata": {},
   "source": [
    "### Imports"
   ]
  },
  {
   "cell_type": "code",
   "execution_count": null,
   "metadata": {},
   "outputs": [],
   "source": [
    "import argparse\n",
    "from biobb_common.generic.biobb_object import BiobbObject\n",
    "from biobb_common.configuration import  settings\n",
    "from biobb_common.tools import file_utils as fu\n",
    "from biobb_common.tools.file_utils import launchlogger"
   ]
  },
  {
   "cell_type": "markdown",
   "metadata": {},
   "source": [
    "Libraries used for the execution of the **TemplateContainer** class."
   ]
  },
  {
   "cell_type": "markdown",
   "metadata": {},
   "source": [
    "### Class\n",
    "Class template inherits from BiobbObject parent class."
   ]
  },
  {
   "cell_type": "code",
   "execution_count": null,
   "metadata": {},
   "outputs": [],
   "source": [
    "# 1. Rename class as required\n",
    "class TemplateContainer(BiobbObject):"
   ]
  },
  {
   "cell_type": "markdown",
   "metadata": {},
   "source": [
    "### Docstrings\n",
    "\n",
    "The automatic documentation generation system through [**sphinx**](https://www.sphinx-doc.org/en/master/) is explained in detail in the [Documentation section](https://biobb-documentation.readthedocs.io/en/latest/documentation.html#formats-in-code-comments).\n",
    "\n",
    "In the first line of the Template class we define all the arguments explained in the [Arguments](https://biobb-documentation.readthedocs.io/en/latest/arguments.html#arguments) section inside a set of triple quotes:"
   ]
  },
  {
   "cell_type": "code",
   "execution_count": null,
   "metadata": {},
   "outputs": [],
   "source": [
    "\"\"\"\n",
    "| biobb_template TemplateContainer\n",
    "| Short description for the `template container <http://templatedocumentation.org>`_ module in Restructured Text (reST) syntax. Mandatory.\n",
    "| Long description for the `template container <http://templatedocumentation.org>`_ module in Restructured Text (reST) syntax. Optional.\n",
    "\n",
    "Args:\n",
    "    input_file_path1 (str): Description for the first input file path. File type: input. `Sample file <https://urlto.sample>`_. Accepted formats: top (edam:format_3881).\n",
    "    input_file_path2 (str) (Optional): Description for the second input file path (optional). File type: input. `Sample file <https://urlto.sample>`_. Accepted formats: dcd (edam:format_3878).\n",
    "    output_file_path (str): Description for the output file path. File type: output. `Sample file <https://urlto.sample>`_. Accepted formats: zip (edam:format_3987).\n",
    "    properties (dic):\n",
    "        * **boolean_property** (*bool*) - (True) Example of boolean property.\n",
    "        * **executable_binary_property** (*str*) - (\"zip\") Example of executable binary property.\n",
    "        * **remove_tmp** (*bool*) - (True) [WF property] Remove temporal files.\n",
    "        * **restart** (*bool*) - (False) [WF property] Do not execute if output files exist.\n",
    "        * **container_path** (*str*) - (None) Container path definition.\n",
    "        * **container_image** (*str*) - ('mmbirb/zip:latest') Container image definition.\n",
    "        * **container_volume_path** (*str*) - ('/tmp') Container volume path definition.\n",
    "        * **container_working_dir** (*str*) - (None) Container working directory definition.\n",
    "        * **container_user_id** (*str*) - (None) Container user_id definition.\n",
    "        * **container_shell_path** (*str*) - ('/bin/bash') Path to default shell inside the container.\n",
    "\n",
    "Examples:\n",
    "    This is a use example of how to use the building block from Python::\n",
    "\n",
    "        from biobb_template.template.template_container import template_container\n",
    "\n",
    "        prop = { \n",
    "            'boolean_property': True,\n",
    "            'container_path': 'docker',\n",
    "            'container_image': 'mmbirb/zip:latest',\n",
    "            'container_volume_path': '/tmp'\n",
    "        }\n",
    "        template_container(input_file_path1='/path/to/myTopology.top',\n",
    "                        output_file_path='/path/to/newCompressedFile.zip',\n",
    "                        input_file_path2='/path/to/mytrajectory.dcd',\n",
    "                        properties=prop)\n",
    "\n",
    "Info:\n",
    "    * wrapped_software:\n",
    "        * name: Zip\n",
    "        * version: >=3.0\n",
    "        * license: BSD 3-Clause\n",
    "    * ontology:\n",
    "        * name: EDAM\n",
    "        * schema: http://edamontology.org/EDAM.owl\n",
    "\n",
    "\"\"\""
   ]
  },
  {
   "cell_type": "markdown",
   "metadata": {},
   "source": [
    "The docstrings syntax is broadly explained in the [JSON Generator help](https://github.com/bioexcel/utils_biobb/tree/master/json#docs-specifications) of the [utils_biobb](https://github.com/bioexcel/utils_biobb) repository. Following accurately this syntax, the [JSON Generator Tool](https://github.com/bioexcel/utils_biobb/blob/master/json/json_generator.py) will automatically generate the JSON Schemas of the package."
   ]
  },
  {
   "cell_type": "markdown",
   "metadata": {},
   "source": [
    "All the multiline comments inside a set of triple quotes are used later as the function definition:"
   ]
  },
  {
   "cell_type": "code",
   "execution_count": null,
   "metadata": {},
   "outputs": [],
   "source": [
    "def launch(self) -> int:\n",
    "    \"\"\"Execute the :class:`TemplateContainer <template.template_container.TemplateContainer>` object.\"\"\""
   ]
  },
  {
   "cell_type": "markdown",
   "metadata": {},
   "source": [
    "### main() function\n",
    "\n",
    "In the *main()* function we define the command line inputs and outputs and then we pass them to the launch function (described below) of the **TemplateContainer** class."
   ]
  },
  {
   "cell_type": "code",
   "execution_count": null,
   "metadata": {},
   "outputs": [],
   "source": [
    "def main():\n",
    "    \"\"\"Command line execution of this building block. Please check the command line documentation.\"\"\"\n",
    "    parser = argparse.ArgumentParser(description='Description for the template container module.', formatter_class=lambda prog: argparse.RawTextHelpFormatter(prog, width=99999))\n",
    "    parser.add_argument('--config', required=False, help='Configuration file')\n",
    "\n",
    "    # 10. Include specific args of each building block following the examples. They should match step 2\n",
    "    required_args = parser.add_argument_group('required arguments')\n",
    "    required_args.add_argument('--input_file_path1', required=True, help='Description for the first input file path. Accepted formats: top.')\n",
    "    parser.add_argument('--input_file_path2', required=False, help='Description for the second input file path (optional). Accepted formats: dcd.')\n",
    "    required_args.add_argument('--output_file_path', required=True, help='Description for the output file path. Accepted formats: zip.')\n",
    "\n",
    "    args = parser.parse_args()\n",
    "    args.config = args.config or \"{}\"\n",
    "    properties = settings.ConfReader(config=args.config).get_prop_dic()\n",
    "\n",
    "    # 11. Adapt to match Class constructor (step 2)\n",
    "    # Specific call of each building block\n",
    "    template_container(input_file_path1=args.input_file_path1, \n",
    "                      output_file_path=args.output_file_path, \n",
    "                      input_file_path2=args.input_file_path2, \n",
    "                      properties=properties)"
   ]
  },
  {
   "cell_type": "markdown",
   "metadata": {},
   "source": [
    "### \\_\\_init\\_\\_() function\n",
    "\n",
    "In the *\\_\\_init\\_\\_()* function initialises the **TemplateContainer** class. In this function a dictionary with all the inputs and output (*self.io_dict*) is created, and all the properties are initialised."
   ]
  },
  {
   "cell_type": "code",
   "execution_count": null,
   "metadata": {},
   "outputs": [],
   "source": [
    "# 2. Adapt input and output file paths as required. Include all files, even optional ones\n",
    "def __init__(self, input_file_path1, output_file_path, \n",
    "            input_file_path2 = None, properties = None, **kwargs) -> None:\n",
    "    properties = properties or {}\n",
    "\n",
    "    # 2.0 Call parent class constructor\n",
    "    super().__init__(properties)\n",
    "\n",
    "    # 2.1 Modify to match constructor parameters\n",
    "    # Input/Output files\n",
    "    self.io_dict = { \n",
    "        'in': { 'input_file_path1': input_file_path1, 'input_file_path2': input_file_path2 }, \n",
    "        'out': { 'output_file_path': output_file_path } \n",
    "    }\n",
    "\n",
    "    # 3. Include all relevant properties here as \n",
    "    # self.property_name = properties.get('property_name', property_default_value)\n",
    "\n",
    "    # Properties specific for BB\n",
    "    self.boolean_property = properties.get('boolean_property', True)\n",
    "    self.executable_binary_property = properties.get('executable_binary_property', 'zip')\n",
    "    self.properties = properties\n",
    "\n",
    "    # Check the properties\n",
    "    self.check_properties(properties)"
   ]
  },
  {
   "cell_type": "markdown",
   "metadata": {},
   "source": [
    "### launch() function\n",
    "\n",
    "In the function *launch()* we perform all the actions needed for the wrapping: creation of temporary folder(s), mapping of these temporary folder(s) to the container, creation of command line, execution of command line, retrieve of data from the container and removing of the temporary folder(s). In this case we will comment all the blocks that shape this function separately.\n",
    "\n",
    "#### @launchlogger decorator\n",
    "Decorator used for wrapping the log. "
   ]
  },
  {
   "cell_type": "code",
   "execution_count": null,
   "metadata": {},
   "outputs": [],
   "source": [
    "@launchlogger\n",
    "def launch(self) -> int:\n",
    "    \"\"\"Execute the :class:`TemplateContainer <template.template_container.TemplateContainer>` object.\"\"\""
   ]
  },
  {
   "cell_type": "markdown",
   "metadata": {},
   "source": [
    "#### Setup BioBB\n",
    "If *restart* property is enabled, skip this step. This property is only used for workflow purposes. Then, all files are staged."
   ]
  },
  {
   "cell_type": "code",
   "execution_count": null,
   "metadata": {},
   "outputs": [],
   "source": [
    "# 4. Setup Biobb\n",
    "if self.check_restart(): return 0\n",
    "self.stage_files()"
   ]
  },
  {
   "cell_type": "markdown",
   "metadata": {},
   "source": [
    "#### Command line\n",
    "Creation of command line call. If *boolean_property* is enabled, append **-v** option to command line."
   ]
  },
  {
   "cell_type": "code",
   "execution_count": null,
   "metadata": {},
   "outputs": [],
   "source": [
    "# 5. Prepare the command line parameters as instructions list\n",
    "instructions = ['-j']\n",
    "if self.boolean_property:\n",
    "    instructions.append('-v')\n",
    "    fu.log('Appending optional boolean property', self.out_log, self.global_log)\n",
    "\n",
    "# 6. Build the actual command line as a list of items (elements order will be maintained)\n",
    "self.cmd = [self.executable_binary_property,\n",
    "       ' '.join(instructions), \n",
    "       self.stage_io_dict['out']['output_file_path'],\n",
    "       self.stage_io_dict['in']['input_file_path1']]\n",
    "fu.log('Creating command line with instructions and required arguments', self.out_log, self.global_log)"
   ]
  },
  {
   "cell_type": "markdown",
   "metadata": {},
   "source": [
    "#### Optional input file\n",
    "\n",
    "If optional input file provided append it to the command line call."
   ]
  },
  {
   "cell_type": "code",
   "execution_count": null,
   "metadata": {},
   "outputs": [],
   "source": [
    "# 7. Repeat for optional input files if provided\n",
    "if self.stage_io_dict['in']['input_file_path2']:\n",
    "    # Append optional input_file_path2 to cmd\n",
    "    self.cmd.append(self.stage_io_dict['in']['input_file_path2'])\n",
    "    fu.log('Appending optional argument to command line', self.out_log, self.global_log)"
   ]
  },
  {
   "cell_type": "markdown",
   "metadata": {},
   "source": [
    "#### Launch execution\n",
    "\n",
    "Creation of command line according to the *container_path* property and the rest of container-related properties. Then, launch execution."
   ]
  },
  {
   "cell_type": "code",
   "execution_count": null,
   "metadata": {},
   "outputs": [],
   "source": [
    "# Run Biobb block\n",
    "self.run_biobb()"
   ]
  },
  {
   "cell_type": "markdown",
   "metadata": {},
   "source": [
    "#### Output data retrieval\n",
    "\n",
    "Copy output file(s) from the mapped *container_volume_path* inside the container to the definitive output path defined by the user in the arguments."
   ]
  },
  {
   "cell_type": "code",
   "execution_count": null,
   "metadata": {},
   "outputs": [],
   "source": [
    "# Copy files to host\n",
    "self.copy_to_host()"
   ]
  },
  {
   "cell_type": "markdown",
   "metadata": {},
   "source": [
    "#### Remove temporary file(s)\n",
    "If *remove_tmp* is enabled, remove temporary file(s) created during the execution. Then, return *self.return_code* and finish the function."
   ]
  },
  {
   "cell_type": "code",
   "execution_count": null,
   "metadata": {},
   "outputs": [],
   "source": [
    "# Remove temporary file(s)\n",
    "if self.remove_tmp and self.stage_io_dict[\"unique_dir\"]:\n",
    "    self.tmp_files.append(self.stage_io_dict.get(\"unique_dir\"))\n",
    "    self.remove_tmp_files()\n",
    "\n",
    "return self.return_code"
   ]
  },
  {
   "cell_type": "markdown",
   "metadata": {},
   "source": [
    "### template_container() function\n",
    "\n",
    "In the function *template_container()* we call the launch() function of the class TemplateContainer. It will be used for external calls to the Template class such as Jupyter Notebooks and some adapters."
   ]
  },
  {
   "cell_type": "code",
   "execution_count": null,
   "metadata": {},
   "outputs": [],
   "source": [
    "def template_container(input_file_path1: str, output_file_path: str, input_file_path2: str = None, properties: dict = None, **kwargs) -> None:\n",
    "\"\"\"Create :class:`TemplateContainer <template.template_container.TemplateContainer>` class and\n",
    "execute the :meth:`launch() <template.template_container.TemplateContainer.launch>` method.\"\"\"\n",
    "\n",
    "return TemplateContainer(input_file_path1=input_file_path1, \n",
    "                        output_file_path=output_file_path,\n",
    "                        input_file_path2=input_file_path2,\n",
    "                        properties=properties, **kwargs).launch()"
   ]
  }
 ],
 "metadata": {
  "kernelspec": {
   "display_name": "Python 3",
   "language": "python",
   "name": "python3"
  },
  "language_info": {
   "codemirror_mode": {
    "name": "ipython",
    "version": 3
   },
   "file_extension": ".py",
   "mimetype": "text/x-python",
   "name": "python",
   "nbconvert_exporter": "python",
   "pygments_lexer": "ipython3",
   "version": "3.7.6"
  }
 },
 "nbformat": 4,
 "nbformat_minor": 4
}
