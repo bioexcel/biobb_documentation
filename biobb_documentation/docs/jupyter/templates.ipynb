{
 "cells": [
  {
   "cell_type": "markdown",
   "metadata": {},
   "source": [
    "# Templates"
   ]
  },
  {
   "cell_type": "markdown",
   "metadata": {},
   "source": [
    "In this manual we will detail how to build a new **BioBB** module or package using the [biobb_template](https://github.com/bioexcel/biobb_template) as a base. In this template, you will find all the material needed for the implementation of a new **BioBB**. The complete file structure is described in detail in the [Files structure](https://biobb-documentation.readthedocs.io/en/latest/files_structure.html) section.\n",
    "\n",
    "In the *biobb_template* we provide, amongst the rest of materials, two Python templates: **template.py**, for wrapping a tool, and **template_container.py**, for wrapping a tool executed inside a container."
   ]
  },
  {
   "cell_type": "markdown",
   "metadata": {},
   "source": [
    "## Template (template.py)\n",
    "\n",
    "[https://github.com/bioexcel/biobb_template/blob/master/biobb_template/template/template.py](https://github.com/bioexcel/biobb_template/blob/master/biobb_template/template/template.py)\n",
    "\n",
    "This is the basic template for wrapping a tool. This Python file is a wrapper for the [**zip**](http://infozip.sourceforge.net/) tool. The process followed by this script is the following one:\n",
    "\n",
    "* Receive **input(s)** paths. More information about the inputs can be found in the [Inputs section](https://biobb-documentation.readthedocs.io/en/latest/arguments.html#inputs).\n",
    "* Receive **output** path. More information about the outputs can be found in the [Outputs section](https://biobb-documentation.readthedocs.io/en/latest/arguments.html#outputs).\n",
    "* Receive **properties**. More information about the properties can be found in the [Properties section](https://biobb-documentation.readthedocs.io/en/latest/arguments.html#properties). And more information about the specific properties of this template can be found in the [Properties Template](https://biobb-documentation.readthedocs.io/en/latest/arguments.html#template) section.\n",
    "* Create a **temporary folder** and copy the **input(s) file(s)** inside it. \n",
    "* Wrap the [**zip**](http://infozip.sourceforge.net/) tool creating a command line from the input(s) and properties.\n",
    "* Execute the command line.\n",
    "* Remove the **temporary folder** if the user has not said otherwise.\n",
    "* If everything worked, the output file will be in the path provided to the tool.\n",
    "\n",
    "More information about the structure of this file can be found in the [Template section](https://biobb-documentation.readthedocs.io/en/latest/python_structure.html#template)."
   ]
  },
  {
   "cell_type": "markdown",
   "metadata": {},
   "source": [
    "## Template Container (template_container.py)\n",
    "\n",
    "[https://github.com/bioexcel/biobb_template/blob/master/biobb_template/template/template_container.py](https://github.com/bioexcel/biobb_template/blob/master/biobb_template/template/template_container.py)\n",
    "\n",
    "This is the template for wrapping a tool executed through a container. In this case, the tool to wrap is [**zip**](http://infozip.sourceforge.net/) and two containers are provided: [Docker Hub](https://hub.docker.com/r/mmbirb/zip) and [Singularity Hub](https://singularity-hub.org/) (type `singularity pull --name zip.sif shub://bioexcel/zip_container` for installing it in your computer). The process followed by this script is the following one:\n",
    "\n",
    "* Receive **input(s)** paths. More information about the inputs can be found in the [Inputs section](https://biobb-documentation.readthedocs.io/en/latest/arguments.html#inputs).\n",
    "* Receive **output** path. More information about the outputs can be found in the [Outputs section](https://biobb-documentation.readthedocs.io/en/latest/arguments.html#outputs).\n",
    "* Receive **properties**. More information about the properties can be found in the [Properties section](https://biobb-documentation.readthedocs.io/en/latest/arguments.html#properties). And more information about the specific properties of this template can be found in the [Properties Template Container](https://biobb-documentation.readthedocs.io/en/latest/arguments.html#template-container) section.\n",
    "* Creation a **temporary folder** and map it to the *container_volume_path* path.\n",
    "* Wrap the [**zip**](http://infozip.sourceforge.net/) tool creating a command line from the input(s) and properties.\n",
    "* Execute the command line.\n",
    "* Copy output file(s) from the mapped *container_volume_path* inside the container to the definitive output path defined by the user in the arguments.\n",
    "* Remove the **temporary folder** if the user has not said otherwise.\n",
    "* If everything worked, the output file will be in the path provided to the tool.\n",
    "\n",
    "More information about the structure of this file can be found in the [Template Container section](https://biobb-documentation.readthedocs.io/en/latest/python_structure.html#template-container)."
   ]
  }
 ],
 "metadata": {
  "kernelspec": {
   "display_name": "Python 3",
   "language": "python",
   "name": "python3"
  },
  "language_info": {
   "codemirror_mode": {
    "name": "ipython",
    "version": 3
   },
   "file_extension": ".py",
   "mimetype": "text/x-python",
   "name": "python",
   "nbconvert_exporter": "python",
   "pygments_lexer": "ipython3",
   "version": "3.6.7"
  }
 },
 "nbformat": 4,
 "nbformat_minor": 4
}
