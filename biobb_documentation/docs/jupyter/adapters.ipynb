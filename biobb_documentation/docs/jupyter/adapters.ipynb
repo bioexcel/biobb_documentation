{
 "cells": [
  {
   "cell_type": "markdown",
   "metadata": {},
   "source": [
    "# Adapters\n",
    "\n",
    "[**Biobb_adapters**](https://github.com/bioexcel/biobb_adapters) is the **BioBB** module collection to use the **BioExcel Building Blocks** with several workflow managers. "
   ]
  },
  {
   "cell_type": "markdown",
   "metadata": {},
   "source": [
    "## CWL\n",
    "\n",
    "[https://github.com/bioexcel/biobb_template/tree/master/biobb_template/adapters/cwl](https://github.com/bioexcel/biobb_template/tree/master/biobb_template/adapters/cwl)\n",
    "\n",
    "This folder contains the [**Common Workflow Language**](https://www.commonwl.org/) template."
   ]
  },
  {
   "cell_type": "markdown",
   "metadata": {},
   "source": [
    "## PyCOMPSs\n",
    "\n",
    "some text"
   ]
  }
 ],
 "metadata": {
  "kernelspec": {
   "display_name": "Python 3",
   "language": "python",
   "name": "python3"
  },
  "language_info": {
   "codemirror_mode": {
    "name": "ipython",
    "version": 3
   },
   "file_extension": ".py",
   "mimetype": "text/x-python",
   "name": "python",
   "nbconvert_exporter": "python",
   "pygments_lexer": "ipython3",
   "version": "3.6.7"
  }
 },
 "nbformat": 4,
 "nbformat_minor": 4
}
