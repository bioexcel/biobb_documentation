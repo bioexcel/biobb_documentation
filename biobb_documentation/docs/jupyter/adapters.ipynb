{
 "cells": [
  {
   "cell_type": "markdown",
   "metadata": {},
   "source": [
    "# Adapters\n",
    "\n",
    "[**Biobb_adapters**](https://github.com/bioexcel/biobb_adapters) is the **BioBB** module collection to use the **BioExcel Building Blocks** with several workflow managers. "
   ]
  },
  {
   "cell_type": "markdown",
   "metadata": {},
   "source": [
    "## CWL\n",
    "\n",
    "[https://github.com/bioexcel/biobb_template/tree/master/biobb_template/adapters/cwl](https://github.com/bioexcel/biobb_template/tree/master/biobb_template/adapters/cwl)\n",
    "\n",
    "This folder contains the [**Common Workflow Language**](https://www.commonwl.org/) [template](https://github.com/bioexcel/biobb_template/blob/master/biobb_template/adapters/cwl/biobb_template/template/template.cwl) and all the [data needed for testing](https://github.com/bioexcel/biobb_template/tree/master/biobb_template/adapters/cwl/biobb_template/test) purposes.\n",
    "\n",
    "These [CWL files](https://github.com/bioexcel/biobb_template/blob/master/biobb_template/adapters/cwl/biobb_template/template/) are automatically generated with the [CWL Generator Tool](https://github.com/bioexcel/utils_biobb/tree/master/utils_biobb/cwl) of the [utils_biobb](https://github.com/bioexcel/utils_biobb/tree/master) package."
   ]
  },
  {
   "cell_type": "markdown",
   "metadata": {},
   "source": [
    "## PyCOMPSs\n",
    "\n",
    "[https://github.com/bioexcel/biobb_template/tree/master/biobb_template/adapters/pycompss](https://github.com/bioexcel/biobb_template/tree/master/biobb_template/adapters/pycompss)\n",
    "\n",
    "This folder contains the [**PyCOMPSs**](https://pypi.org/project/pycompss/) [template](https://github.com/bioexcel/biobb_template/blob/master/biobb_template/adapters/pycompss/template/template_pc.py)."
   ]
  }
 ],
 "metadata": {
  "kernelspec": {
   "display_name": "Python 3 (ipykernel)",
   "language": "python",
   "name": "python3"
  },
  "language_info": {
   "codemirror_mode": {
    "name": "ipython",
    "version": 3
   },
   "file_extension": ".py",
   "mimetype": "text/x-python",
   "name": "python",
   "nbconvert_exporter": "python",
   "pygments_lexer": "ipython3",
   "version": "3.9.12"
  }
 },
 "nbformat": 4,
 "nbformat_minor": 4
}
