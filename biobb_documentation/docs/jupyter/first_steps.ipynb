{
 "cells": [
  {
   "cell_type": "markdown",
   "metadata": {},
   "source": [
    "# First steps"
   ]
  },
  {
   "cell_type": "markdown",
   "metadata": {},
   "source": [
    "## Introduction\n",
    "\n",
    "In the recent years, the improvement of **software** and **hardware performance** has made biomolecular simulations a mature tool for the study of biological processes. Simulation length and the size and **complexity** of the **analyzed systems** make simulations both complementary and compatible with other bioinformatics disciplines. However, the characteristics of the software packages used for simulation have prevented the adoption of the technologies accepted in other bioinformatics fields like automated **deployment systems**, **workflow orchestration**, or the use of **software containers**. We faced the challenge to bring biomolecular simulations to the “bioinformatics way of working”. The exercise has led to the development of the **BioExcel Building Blocks (BioBB)** library. BioBB’s are built as **Python wrappers** to provide an interoperable architecture. BioBB’s have been integrated in a chain of usual software management tools to generate **data ontologies**, **documentation**, **installation packages**, **software containers** and ways of integration with **workflow managers**, that make them usable in most computational environments.\n",
    "\n",
    "### Useful links\n",
    "\n",
    "The **BioExcel Building Blocks** are described in the [official website](http://mmb.irbbarcelona.org/biobb/).\n",
    "\n",
    "The repositories index of **BioExcel Building Blocks** is available in [GitHub](https://github.com/bioexcel/biobb)\n",
    "\n",
    "In this manual we will detail how to build a new BioBB module or package using the [biobb_template](https://github.com/bioexcel/biobb_template) as a base.\n",
    "\n",
    "### Citation\n",
    "\n",
    "When using **BioExcel Building Blocks** please cite:\n",
    "\n",
    "[BioExcel Building Blocks, a software library for interoperable biomolecular simulation workflows.](https://www.nature.com/articles/s41597-019-0177-4)<br>\n",
    "Pau Andrio, Adam Hospital, Javier Conejero, Luis Jordá, Marc Del Pino, Laia Codo, Stian Soiland-Reyes, Carole Goble, Daniele Lezzi, Rosa M. Badia, Modesto Orozco & Josep Ll. Gelpi  *Nature Scientific Data*, 09/2019, Volume 6, Issue 1, p.169, (2019)"
   ]
  },
  {
   "cell_type": "markdown",
   "metadata": {},
   "source": [
    "## New with anaconda?\n",
    "\n",
    "**Anaconda** is a free and open-source distribution for scientific computing (data science, machine learning applications, large-scale data processing, predictive analytics, etc.), that aims to simplify package management and deployment. Package versions are managed by the package management system **conda**. The Anaconda distribution includes data-science packages suitable for **Windows**, **Linux**, and **MacOS**.\n",
    "\n",
    "If you have never worked before with **Anaconda**, please take a look to the [official documentation](https://docs.anaconda.com/anaconda/install/) and install it in your computer."
   ]
  },
  {
   "cell_type": "markdown",
   "metadata": {},
   "source": [
    "## Installation\n",
    "\n",
    "First off, please go to the *biobb_template* **GitHub repository** and install it in your computer as indicated in the **README.md** file in the repository:\n",
    "\n",
    "[https://github.com/bioexcel/biobb_template](https://github.com/bioexcel/biobb_template)\n",
    "\n",
    "### Clone repository\n",
    "\n",
    "```Shell\n",
    "git https://github.com/bioexcel/biobb_template.git\n",
    "```\n",
    "\n",
    "### Create new conda environment\n",
    "\n",
    "```Shell\n",
    "cd biobb_template\n",
    "conda env create -f conda_env/environment.yml\n",
    "```\n",
    "\n",
    "### Update environment paths\n",
    "\n",
    "Edit *conda_env/biobb_template.pth* with the paths to your *biobb_template* folder. Example:\n",
    "\n",
    "```Shell\n",
    "/home/user_name/projects/biobb_template/\n",
    "/home/user_name/projects/biobb_template/biobb_template/biobb_template\n",
    "```\n",
    "\n",
    "Copy the edited *conda_env/biobb_template.pth* file to the site-packages folder of your environment. This folder is in */[anaconda-path]/envs/biobb_template/lib/python3.6/site-packages*, where */[anaconda-path]* is usually */anaconda3* or */opt/conda*.\n",
    "\n",
    "```Shell\n",
    "cp conda_env/biobb_template.pth </anaconda-path/envs/biobb_template/lib/python3.6/site-packages>\n",
    "```\n",
    "\n",
    "### Activate environment\n",
    "\n",
    "```Shell\n",
    "conda activate biobb_template\n",
    "```"
   ]
  },
  {
   "cell_type": "markdown",
   "metadata": {},
   "source": [
    "## Files structure\n",
    "\n",
    "Taking a look to the biobb_template files structure, we will find something like that:\n",
    "\n",
    "* biobb_template/\n",
    "\t* biobb_template/\n",
    "\t\t* \\_\\_init\\_\\_.py\n",
    "        * cwl/\n",
    "\t\t* docs/\n",
    "\t\t* json_schemas/\n",
    "        * notebooks/\n",
    "        * pycompss/\n",
    "        * template/\n",
    "\t\t\t* \\_\\_init\\_\\_.py\n",
    "\t\t\t* template.py\n",
    "\t\t\t* template_container.py\n",
    "\t\t* test/\n",
    "    * conda_env/\n",
    "        * biobb_template.pth\n",
    "        * environment.yml\n",
    "\t* .gitignore\n",
    "\t* LICENSE\n",
    "\t* README.md\n",
    "\t* setup.py"
   ]
  },
  {
   "cell_type": "markdown",
   "metadata": {},
   "source": [
    "### biobb_template\n",
    "\n",
    "This folder contains the whole project.\n",
    "\n",
    "#### \\_\\_init\\_\\_.py\n",
    "\n",
    "Files named **\\_\\_init\\_\\_.py** are used to mark directories on disk as Python package directories. In this first level we define the package name (*biobb_template*) and all the modules contained in this package, only one in this example (*template*):"
   ]
  },
  {
   "cell_type": "code",
   "execution_count": null,
   "metadata": {},
   "outputs": [],
   "source": [
    "name = \"biobb_template\"\n",
    "__all__ = [\"template\"]"
   ]
  },
  {
   "cell_type": "markdown",
   "metadata": {},
   "source": [
    "#### cwl folder\n",
    "\n",
    "\n",
    "#### docs folder\n",
    "\n",
    "\n",
    "#### json_schemas folder\n",
    "\n",
    "\n",
    "#### pycompss folder\n",
    "\n",
    "\n",
    "#### template folder\n",
    "\n",
    "\n",
    "#### test folder"
   ]
  },
  {
   "cell_type": "markdown",
   "metadata": {},
   "source": [
    "### conda_env\n",
    "\n",
    "This folder contains the two necessary files for building a new conda environment.\n",
    "\n",
    "#### biobb_template.pth\n",
    "\n",
    "```Shell\n",
    "/path/to/biobb_template/\n",
    "/path/to/biobb_template/biobb_template\n",
    "```\n",
    "\n",
    "The two lines of this file must be edited and changed by the correct path to your *biobb_template* project. This paths file is used for import local python packages to our conda environment.\n",
    "\n",
    "#### environment.yml\n",
    "\n",
    "```YAML\n",
    "name: biobb_template\n",
    "channels:\n",
    "  - conda-forge\n",
    "  - bioconda\n",
    "dependencies:\n",
    "  - python\n",
    "  - biobb_common==2.0.1\n",
    "  - nb_conda_kernels\n",
    "  - nose\n",
    "  - zip\n",
    "  - conda\n",
    "```\n",
    "\n",
    "In this YAML file we find all the pakcages that will be installed in our conda environment:\n",
    "\n",
    "* **python**: Last available version of python in anaconda.\n",
    "* **biobb_common**: BioBB library with all the necessary functions for developing **BioExcel Building Blocks**.\n",
    "* **nb_conda_kernels**: This extension enables a Jupyter Notebook application in one conda environment to access kernels for several languages languages found in other environments.\n",
    "* **nose**: Unittest python library.\n",
    "* **zip**: Software that will be wrapped in this *biobb_template* examples\n",
    "* **conda**: Conda dependency."
   ]
  },
  {
   "cell_type": "markdown",
   "metadata": {},
   "source": [
    "### Root files\n",
    "\n",
    "#### .gitignore\n",
    "\n",
    "A **gitignore** file specifies intentionally untracked files that Git should ignore. \n",
    "\n",
    "#### LICENSE\n",
    "\n",
    "License for the package, usually **[Apache License 2.0](https://github.com/bioexcel/biobb_documentation/blob/master/LICENSE)** \n",
    "\n",
    "#### README.md\n",
    "\n",
    "Text file containing useful information about the **BioBB** package.\n",
    "\n",
    "#### setup.py"
   ]
  },
  {
   "cell_type": "code",
   "execution_count": null,
   "metadata": {},
   "outputs": [],
   "source": [
    "import setuptools\n",
    "\n",
    "with open(\"README.md\", \"r\") as fh:\n",
    "    long_description = fh.read()\n",
    "\n",
    "setuptools.setup(\n",
    "    name=\"biobb_template\",\n",
    "    version=\"1.0.0\",\n",
    "    author=\"Biobb developers\",\n",
    "    author_email=\"your@email.com\",\n",
    "    description=\"Biobb_template is the Biobb module collection to perform molecular dynamics simulations.\",\n",
    "    long_description=long_description,\n",
    "    long_description_content_type=\"text/markdown\",\n",
    "    keywords=\"Bioinformatics Workflows BioExcel Compatibility\",\n",
    "    url=\"https://github.com/bioexcel/biobb_template\",\n",
    "    project_urls={\n",
    "        \"Documentation\": \"http://biobb_template.readthedocs.io/en/latest/\",\n",
    "        \"Bioexcel\": \"https://bioexcel.eu/\"\n",
    "    },\n",
    "    packages=setuptools.find_packages(exclude=['docs', 'test']),\n",
    "    install_requires=['biobb_common>=2.0.1'],\n",
    "    python_requires='==3.6.*',\n",
    "    classifiers=(\n",
    "        \"Development Status :: 3 - Alpha\",\n",
    "        \"Programming Language :: Python :: 3\",\n",
    "        \"License :: OSI Approved :: Apache Software License\",\n",
    "        \"Operating System :: MacOS :: MacOS X\",\n",
    "        \"Operating System :: POSIX\",\n",
    "    ),\n",
    ")"
   ]
  },
  {
   "cell_type": "markdown",
   "metadata": {},
   "source": [
    "In this **setup.py file**, the developers must fill several fields such as descriptions, author name, keywords and so on. The most important fields are:\n",
    "\n",
    "* **version**: version of the package\n",
    "* **packages**: the ones excluded won't be automatically parsed when building the documentation. For further information about this process, please visit the [Documentation section](https://biobb-documentation.readthedocs.io/en/latest/documentation.html).\n",
    "* **install_requires**: dependencies of this package\n",
    "* **python_requires**: version of python"
   ]
  }
 ],
 "metadata": {
  "kernelspec": {
   "display_name": "Python 3",
   "language": "python",
   "name": "python3"
  },
  "language_info": {
   "codemirror_mode": {
    "name": "ipython",
    "version": 3
   },
   "file_extension": ".py",
   "mimetype": "text/x-python",
   "name": "python",
   "nbconvert_exporter": "python",
   "pygments_lexer": "ipython3",
   "version": "3.6.7"
  }
 },
 "nbformat": 4,
 "nbformat_minor": 4
}
